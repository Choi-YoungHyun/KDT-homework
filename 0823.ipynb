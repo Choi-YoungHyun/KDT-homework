{
 "cells": [
  {
   "cell_type": "code",
   "execution_count": 99,
   "id": "7da7f3d4-1704-4262-9a3b-78de814a06d6",
   "metadata": {},
   "outputs": [],
   "source": [
    "import os\n",
    "import pandas as pd"
   ]
  },
  {
   "cell_type": "code",
   "execution_count": 110,
   "id": "c66d0052-f891-47c3-9d39-5dce4a10ceb6",
   "metadata": {},
   "outputs": [],
   "source": [
    "def get_image_size(image_path):\n",
    "    image = Image.open(image_path)\n",
    "    width, height = image.size\n",
    "    return width, height\n",
    "\n",
    "def convert_bbox_to_yolo(xmin, ymin, xmax, ymax, image_width, image_height):\n",
    "    x_center = (xmin + xmax) / 2\n",
    "    y_center = (ymin + ymax) / 2\n",
    "    width = xmax - xmin\n",
    "    height = ymax - ymin\n",
    "    x_center_relative = x_center / image_width\n",
    "    y_center_relative = y_center / image_height\n",
    "    width_relative = width / image_width\n",
    "    height_relative = height / image_height\n",
    "    yolo_bbox = [x_center_relative, y_center_relative, width_relative, height_relative]\n",
    "    return yolo_bbox\n",
    "\n",
    "def make_df(df_path,image_folder_path):\n",
    "    df = pd.read_csv(df_path)\n",
    "    total_df = df[(df['class'] ==1) | (df['class'] == 7)]\n",
    "\n",
    "    path = image_folder_path\n",
    "    for i in os.listdir(path):\n",
    "        w,h = get_image_size(path+'/'+i)\n",
    "        temp_li1.append(w)\n",
    "        temp_li2.append(h)\n",
    "        temp_li3.append(i)\n",
    "    df_1 = pd.DataFrame({'width':temp_li1,'height':temp_li2,'filename':temp_li3})\n",
    "    total_df1 = pd.merge(total_df,df_1,on='filename')\n",
    "\n",
    "    total_df1['box'] = total_df1['box'].apply(lambda box: ast.literal_eval(box))\n",
    "    total_df1['bbox'] = total_df1.apply(lambda row: convert_bbox_to_yolo(row['box'][0], row['box'][1], row['box'][2], row['box'][3], row['width'], row['height']), axis=1)\n",
    "    print('데이터 프레임 완료')\n",
    "\n",
    "    return total_df1\n",
    "\n"
   ]
  },
  {
   "cell_type": "code",
   "execution_count": 107,
   "id": "9b9daf25-4757-410b-8d48-6f28620dddbf",
   "metadata": {},
   "outputs": [
    {
     "name": "stdout",
     "output_type": "stream",
     "text": [
      "파일 삭제 및, 데이터 프레임 완료\n"
     ]
    },
    {
     "data": {
      "text/plain": [
       "5758"
      ]
     },
     "execution_count": 107,
     "metadata": {},
     "output_type": "execute_result"
    }
   ],
   "source": [
    "df123 = make_df('난다지명/5.물류센터.csv','image_data/image_data/5.물류센터_클래스분류')\n",
    "len(set(df123['filename']))"
   ]
  },
  {
   "cell_type": "code",
   "execution_count": 111,
   "id": "6a7592af-acdf-4a84-8a93-309c167cba8b",
   "metadata": {},
   "outputs": [
    {
     "data": {
      "text/html": [
       "<div>\n",
       "<style scoped>\n",
       "    .dataframe tbody tr th:only-of-type {\n",
       "        vertical-align: middle;\n",
       "    }\n",
       "\n",
       "    .dataframe tbody tr th {\n",
       "        vertical-align: top;\n",
       "    }\n",
       "\n",
       "    .dataframe thead th {\n",
       "        text-align: right;\n",
       "    }\n",
       "</style>\n",
       "<table border=\"1\" class=\"dataframe\">\n",
       "  <thead>\n",
       "    <tr style=\"text-align: right;\">\n",
       "      <th></th>\n",
       "      <th>filename</th>\n",
       "      <th>box</th>\n",
       "      <th>class</th>\n",
       "      <th>width</th>\n",
       "      <th>height</th>\n",
       "      <th>bbox</th>\n",
       "    </tr>\n",
       "  </thead>\n",
       "  <tbody>\n",
       "    <tr>\n",
       "      <th>0</th>\n",
       "      <td>S2-N1401M00045.jpg</td>\n",
       "      <td>[102, 548, 183, 632]</td>\n",
       "      <td>7</td>\n",
       "      <td>1920</td>\n",
       "      <td>1080</td>\n",
       "      <td>[0.07421875, 0.5462962962962963, 0.0421875, 0....</td>\n",
       "    </tr>\n",
       "    <tr>\n",
       "      <th>1</th>\n",
       "      <td>S2-N1401M00045.jpg</td>\n",
       "      <td>[102, 548, 183, 632]</td>\n",
       "      <td>7</td>\n",
       "      <td>1920</td>\n",
       "      <td>1080</td>\n",
       "      <td>[0.07421875, 0.5462962962962963, 0.0421875, 0....</td>\n",
       "    </tr>\n",
       "    <tr>\n",
       "      <th>2</th>\n",
       "      <td>S2-N1401M00045.jpg</td>\n",
       "      <td>[102, 548, 183, 632]</td>\n",
       "      <td>7</td>\n",
       "      <td>1920</td>\n",
       "      <td>1080</td>\n",
       "      <td>[0.07421875, 0.5462962962962963, 0.0421875, 0....</td>\n",
       "    </tr>\n",
       "    <tr>\n",
       "      <th>3</th>\n",
       "      <td>S2-N1401M00045.jpg</td>\n",
       "      <td>[49, 629, 175, 894]</td>\n",
       "      <td>1</td>\n",
       "      <td>1920</td>\n",
       "      <td>1080</td>\n",
       "      <td>[0.058333333333333334, 0.7050925925925926, 0.0...</td>\n",
       "    </tr>\n",
       "    <tr>\n",
       "      <th>4</th>\n",
       "      <td>S2-N1401M00045.jpg</td>\n",
       "      <td>[49, 629, 175, 894]</td>\n",
       "      <td>1</td>\n",
       "      <td>1920</td>\n",
       "      <td>1080</td>\n",
       "      <td>[0.058333333333333334, 0.7050925925925926, 0.0...</td>\n",
       "    </tr>\n",
       "    <tr>\n",
       "      <th>...</th>\n",
       "      <td>...</td>\n",
       "      <td>...</td>\n",
       "      <td>...</td>\n",
       "      <td>...</td>\n",
       "      <td>...</td>\n",
       "      <td>...</td>\n",
       "    </tr>\n",
       "    <tr>\n",
       "      <th>27730</th>\n",
       "      <td>S2-N1402M20397.jpg</td>\n",
       "      <td>[852, 819, 900, 881]</td>\n",
       "      <td>1</td>\n",
       "      <td>1920</td>\n",
       "      <td>1080</td>\n",
       "      <td>[0.45625, 0.7870370370370371, 0.025, 0.0574074...</td>\n",
       "    </tr>\n",
       "    <tr>\n",
       "      <th>27731</th>\n",
       "      <td>S2-N1402M20397.jpg</td>\n",
       "      <td>[852, 819, 900, 881]</td>\n",
       "      <td>1</td>\n",
       "      <td>1920</td>\n",
       "      <td>1080</td>\n",
       "      <td>[0.45625, 0.7870370370370371, 0.025, 0.0574074...</td>\n",
       "    </tr>\n",
       "    <tr>\n",
       "      <th>27732</th>\n",
       "      <td>S2-N1402M20398.jpg</td>\n",
       "      <td>[1028, 785, 1072, 850]</td>\n",
       "      <td>1</td>\n",
       "      <td>1920</td>\n",
       "      <td>1080</td>\n",
       "      <td>[0.546875, 0.7569444444444444, 0.0229166666666...</td>\n",
       "    </tr>\n",
       "    <tr>\n",
       "      <th>27733</th>\n",
       "      <td>S2-N1402M20398.jpg</td>\n",
       "      <td>[1028, 785, 1072, 850]</td>\n",
       "      <td>1</td>\n",
       "      <td>1920</td>\n",
       "      <td>1080</td>\n",
       "      <td>[0.546875, 0.7569444444444444, 0.0229166666666...</td>\n",
       "    </tr>\n",
       "    <tr>\n",
       "      <th>27734</th>\n",
       "      <td>S2-N1402M20398.jpg</td>\n",
       "      <td>[1028, 785, 1072, 850]</td>\n",
       "      <td>1</td>\n",
       "      <td>1920</td>\n",
       "      <td>1080</td>\n",
       "      <td>[0.546875, 0.7569444444444444, 0.0229166666666...</td>\n",
       "    </tr>\n",
       "  </tbody>\n",
       "</table>\n",
       "<p>27735 rows × 6 columns</p>\n",
       "</div>"
      ],
      "text/plain": [
       "                 filename                     box  class  width  height  \\\n",
       "0      S2-N1401M00045.jpg    [102, 548, 183, 632]      7   1920    1080   \n",
       "1      S2-N1401M00045.jpg    [102, 548, 183, 632]      7   1920    1080   \n",
       "2      S2-N1401M00045.jpg    [102, 548, 183, 632]      7   1920    1080   \n",
       "3      S2-N1401M00045.jpg     [49, 629, 175, 894]      1   1920    1080   \n",
       "4      S2-N1401M00045.jpg     [49, 629, 175, 894]      1   1920    1080   \n",
       "...                   ...                     ...    ...    ...     ...   \n",
       "27730  S2-N1402M20397.jpg    [852, 819, 900, 881]      1   1920    1080   \n",
       "27731  S2-N1402M20397.jpg    [852, 819, 900, 881]      1   1920    1080   \n",
       "27732  S2-N1402M20398.jpg  [1028, 785, 1072, 850]      1   1920    1080   \n",
       "27733  S2-N1402M20398.jpg  [1028, 785, 1072, 850]      1   1920    1080   \n",
       "27734  S2-N1402M20398.jpg  [1028, 785, 1072, 850]      1   1920    1080   \n",
       "\n",
       "                                                    bbox  \n",
       "0      [0.07421875, 0.5462962962962963, 0.0421875, 0....  \n",
       "1      [0.07421875, 0.5462962962962963, 0.0421875, 0....  \n",
       "2      [0.07421875, 0.5462962962962963, 0.0421875, 0....  \n",
       "3      [0.058333333333333334, 0.7050925925925926, 0.0...  \n",
       "4      [0.058333333333333334, 0.7050925925925926, 0.0...  \n",
       "...                                                  ...  \n",
       "27730  [0.45625, 0.7870370370370371, 0.025, 0.0574074...  \n",
       "27731  [0.45625, 0.7870370370370371, 0.025, 0.0574074...  \n",
       "27732  [0.546875, 0.7569444444444444, 0.0229166666666...  \n",
       "27733  [0.546875, 0.7569444444444444, 0.0229166666666...  \n",
       "27734  [0.546875, 0.7569444444444444, 0.0229166666666...  \n",
       "\n",
       "[27735 rows x 6 columns]"
      ]
     },
     "execution_count": 111,
     "metadata": {},
     "output_type": "execute_result"
    }
   ],
   "source": [
    "df123"
   ]
  },
  {
   "cell_type": "code",
   "execution_count": 109,
   "id": "adf95f5e-8bce-4772-956c-bb2118de8868",
   "metadata": {},
   "outputs": [
    {
     "data": {
      "text/plain": [
       "7028"
      ]
     },
     "execution_count": 109,
     "metadata": {},
     "output_type": "execute_result"
    }
   ],
   "source": [
    "len(os.listdir('image_data/image_data/5.물류센터_클래스분류'))"
   ]
  },
  {
   "cell_type": "code",
   "execution_count": 108,
   "id": "3fe2f962-2b58-416e-8e49-7d0d4a7a15ee",
   "metadata": {},
   "outputs": [
    {
     "data": {
      "text/plain": [
       "5758"
      ]
     },
     "execution_count": 108,
     "metadata": {},
     "output_type": "execute_result"
    }
   ],
   "source": [
    "len(set(df123['filename']))"
   ]
  },
  {
   "cell_type": "code",
   "execution_count": 104,
   "id": "8855374c-6c1b-4f7a-a133-e77c52481d5f",
   "metadata": {},
   "outputs": [
    {
     "data": {
      "text/plain": [
       "7028"
      ]
     },
     "execution_count": 104,
     "metadata": {},
     "output_type": "execute_result"
    }
   ],
   "source": [
    "a1 = pd.read_csv('난다지명/5.물류센터.csv')\n",
    "len(set(a1['filename']))"
   ]
  },
  {
   "cell_type": "code",
   "execution_count": 102,
   "id": "b5f51797-b2dc-45fe-ade8-66357dd36fb0",
   "metadata": {},
   "outputs": [
    {
     "data": {
      "text/plain": [
       "7028"
      ]
     },
     "execution_count": 102,
     "metadata": {},
     "output_type": "execute_result"
    }
   ],
   "source": [
    "len(os.listdir('image_data/image_data/5.물류센터_클래스분류'))"
   ]
  },
  {
   "cell_type": "code",
   "execution_count": null,
   "id": "4c997930-05b0-424f-bff3-32744df2692e",
   "metadata": {},
   "outputs": [],
   "source": []
  },
  {
   "cell_type": "code",
   "execution_count": 22,
   "id": "7dc9dd6d-239e-4802-86d8-4776a0eb9f3f",
   "metadata": {},
   "outputs": [],
   "source": [
    "df_dong =  pd.read_csv('난다지명/1.공동주택_동탄.csv')"
   ]
  },
  {
   "cell_type": "code",
   "execution_count": 28,
   "id": "6ce0b5d8-5375-45db-9587-fda93966497c",
   "metadata": {},
   "outputs": [
    {
     "data": {
      "text/html": [
       "<div>\n",
       "<style scoped>\n",
       "    .dataframe tbody tr th:only-of-type {\n",
       "        vertical-align: middle;\n",
       "    }\n",
       "\n",
       "    .dataframe tbody tr th {\n",
       "        vertical-align: top;\n",
       "    }\n",
       "\n",
       "    .dataframe thead th {\n",
       "        text-align: right;\n",
       "    }\n",
       "</style>\n",
       "<table border=\"1\" class=\"dataframe\">\n",
       "  <thead>\n",
       "    <tr style=\"text-align: right;\">\n",
       "      <th></th>\n",
       "      <th>filename</th>\n",
       "      <th>box</th>\n",
       "      <th>class</th>\n",
       "    </tr>\n",
       "  </thead>\n",
       "  <tbody>\n",
       "    <tr>\n",
       "      <th>9</th>\n",
       "      <td>S2-N0002M00003.jpg</td>\n",
       "      <td>[1249, 161, 1302, 231]</td>\n",
       "      <td>7</td>\n",
       "    </tr>\n",
       "    <tr>\n",
       "      <th>10</th>\n",
       "      <td>S2-N0002M00003.jpg</td>\n",
       "      <td>[1220, 213, 1368, 320]</td>\n",
       "      <td>2</td>\n",
       "    </tr>\n",
       "    <tr>\n",
       "      <th>11</th>\n",
       "      <td>S2-N0002M00003.jpg</td>\n",
       "      <td>[724, 41, 1662, 660]</td>\n",
       "      <td>11</td>\n",
       "    </tr>\n",
       "    <tr>\n",
       "      <th>12</th>\n",
       "      <td>S2-N0002M00003.jpg</td>\n",
       "      <td>[265, 0, 637, 262]</td>\n",
       "      <td>20</td>\n",
       "    </tr>\n",
       "    <tr>\n",
       "      <th>13</th>\n",
       "      <td>S2-N0002M00003.jpg</td>\n",
       "      <td>[1457, 0, 1916, 154]</td>\n",
       "      <td>31</td>\n",
       "    </tr>\n",
       "  </tbody>\n",
       "</table>\n",
       "</div>"
      ],
      "text/plain": [
       "              filename                     box  class\n",
       "9   S2-N0002M00003.jpg  [1249, 161, 1302, 231]      7\n",
       "10  S2-N0002M00003.jpg  [1220, 213, 1368, 320]      2\n",
       "11  S2-N0002M00003.jpg    [724, 41, 1662, 660]     11\n",
       "12  S2-N0002M00003.jpg      [265, 0, 637, 262]     20\n",
       "13  S2-N0002M00003.jpg    [1457, 0, 1916, 154]     31"
      ]
     },
     "execution_count": 28,
     "metadata": {},
     "output_type": "execute_result"
    }
   ],
   "source": [
    "df_dong[df_dong['filename'] == 'S2-N0002M00003.jpg']"
   ]
  },
  {
   "cell_type": "code",
   "execution_count": 23,
   "id": "29e91c50-c29b-4981-a502-ac965aae2113",
   "metadata": {},
   "outputs": [],
   "source": [
    "total_df = df_dong[(df_dong['class'] ==1) | (df_dong['class'] == 7)]"
   ]
  },
  {
   "cell_type": "code",
   "execution_count": 33,
   "id": "e92d11dd-c0c9-4c58-a2fa-db184f773262",
   "metadata": {},
   "outputs": [],
   "source": [
    "for i in os.listdir('image_data/image_data/1.공공주택_클래스분류_동탄'):\n",
    "    if i not in set(total_df['filename']):\n",
    "        os.remove(f'image_data/image_data/1.공공주택_클래스분류_동탄/{i}')"
   ]
  },
  {
   "cell_type": "code",
   "execution_count": 34,
   "id": "7bace692-09c0-4b7f-a50e-2fd821067954",
   "metadata": {},
   "outputs": [
    {
     "data": {
      "text/plain": [
       "150"
      ]
     },
     "execution_count": 34,
     "metadata": {},
     "output_type": "execute_result"
    }
   ],
   "source": [
    "len(os.listdir('image_data/image_data/1.공공주택_클래스분류_동탄'))"
   ]
  },
  {
   "cell_type": "code",
   "execution_count": 24,
   "id": "d0598425-d72e-4a64-a6fb-a0c0c50c9d46",
   "metadata": {},
   "outputs": [],
   "source": [
    "total_df = total_df.reset_index(drop=True)"
   ]
  },
  {
   "cell_type": "code",
   "execution_count": 37,
   "id": "b3a96715-396f-418a-92ef-5fa2c68e31d1",
   "metadata": {},
   "outputs": [],
   "source": [
    "total_df.loc[total_df['class'] == 7,'class']  = 0"
   ]
  },
  {
   "cell_type": "code",
   "execution_count": null,
   "id": "025abe83-522f-4871-a6f7-1f44368ab3d2",
   "metadata": {},
   "outputs": [],
   "source": []
  },
  {
   "cell_type": "code",
   "execution_count": 41,
   "id": "b7a2b614-bd76-486e-8f11-6a7c597fecee",
   "metadata": {},
   "outputs": [],
   "source": [
    "from PIL import Image"
   ]
  },
  {
   "cell_type": "code",
   "execution_count": 51,
   "id": "6b3e46c9-969a-469b-9e32-12f46c606062",
   "metadata": {},
   "outputs": [],
   "source": [
    "temp_li1 = []\n",
    "temp_li2 = []\n",
    "temp_li3 = []\n",
    "def get_image_size(image_path):\n",
    "    image = Image.open(image_path)\n",
    "    width, height = image.size\n",
    "    return width, height\n",
    "\n",
    "path = 'image_data/image_data/1.공공주택_클래스분류_동탄'\n",
    "for i in os.listdir(path):\n",
    "    w,h = get_image_size(path+'/'+i)\n",
    "    temp_li1.append(w)\n",
    "    temp_li2.append(h)\n",
    "    temp_li3.append(i)\n"
   ]
  },
  {
   "cell_type": "code",
   "execution_count": 54,
   "id": "e36e3440-c291-4052-8826-00434c0b8748",
   "metadata": {},
   "outputs": [],
   "source": [
    "df_1 = pd.DataFrame({'width':temp_li1,'height':temp_li2,'filename':temp_li3})"
   ]
  },
  {
   "cell_type": "code",
   "execution_count": 58,
   "id": "db33c0c6-b695-4198-9f55-67632426f80b",
   "metadata": {},
   "outputs": [
    {
     "data": {
      "text/html": [
       "<div>\n",
       "<style scoped>\n",
       "    .dataframe tbody tr th:only-of-type {\n",
       "        vertical-align: middle;\n",
       "    }\n",
       "\n",
       "    .dataframe tbody tr th {\n",
       "        vertical-align: top;\n",
       "    }\n",
       "\n",
       "    .dataframe thead th {\n",
       "        text-align: right;\n",
       "    }\n",
       "</style>\n",
       "<table border=\"1\" class=\"dataframe\">\n",
       "  <thead>\n",
       "    <tr style=\"text-align: right;\">\n",
       "      <th></th>\n",
       "      <th>filename</th>\n",
       "      <th>box</th>\n",
       "      <th>class</th>\n",
       "    </tr>\n",
       "  </thead>\n",
       "  <tbody>\n",
       "    <tr>\n",
       "      <th>0</th>\n",
       "      <td>S2-N0002M00003.jpg</td>\n",
       "      <td>[1249, 161, 1302, 231]</td>\n",
       "      <td>0</td>\n",
       "    </tr>\n",
       "    <tr>\n",
       "      <th>1</th>\n",
       "      <td>S2-N0002M00005.jpg</td>\n",
       "      <td>[880, 287, 944, 372]</td>\n",
       "      <td>0</td>\n",
       "    </tr>\n",
       "    <tr>\n",
       "      <th>2</th>\n",
       "      <td>S2-N0002M00137.jpg</td>\n",
       "      <td>[778, 39, 876, 189]</td>\n",
       "      <td>1</td>\n",
       "    </tr>\n",
       "    <tr>\n",
       "      <th>3</th>\n",
       "      <td>S2-N0002M00138.jpg</td>\n",
       "      <td>[788, 253, 842, 310]</td>\n",
       "      <td>0</td>\n",
       "    </tr>\n",
       "    <tr>\n",
       "      <th>4</th>\n",
       "      <td>S2-N0002M00138.jpg</td>\n",
       "      <td>[757, 332, 859, 496]</td>\n",
       "      <td>1</td>\n",
       "    </tr>\n",
       "    <tr>\n",
       "      <th>...</th>\n",
       "      <td>...</td>\n",
       "      <td>...</td>\n",
       "      <td>...</td>\n",
       "    </tr>\n",
       "    <tr>\n",
       "      <th>155</th>\n",
       "      <td>S2-O0001M00404.jpg</td>\n",
       "      <td>[393, 225, 454, 299]</td>\n",
       "      <td>0</td>\n",
       "    </tr>\n",
       "    <tr>\n",
       "      <th>156</th>\n",
       "      <td>S2-O0001M00405.jpg</td>\n",
       "      <td>[581, 218, 664, 314]</td>\n",
       "      <td>0</td>\n",
       "    </tr>\n",
       "    <tr>\n",
       "      <th>157</th>\n",
       "      <td>S2-O0001M00406.jpg</td>\n",
       "      <td>[712, 192, 809, 300]</td>\n",
       "      <td>0</td>\n",
       "    </tr>\n",
       "    <tr>\n",
       "      <th>158</th>\n",
       "      <td>S2-O0001M00406.jpg</td>\n",
       "      <td>[517, 250, 838, 542]</td>\n",
       "      <td>1</td>\n",
       "    </tr>\n",
       "    <tr>\n",
       "      <th>159</th>\n",
       "      <td>S2-O0001M00407.jpg</td>\n",
       "      <td>[860, 314, 1202, 698]</td>\n",
       "      <td>1</td>\n",
       "    </tr>\n",
       "  </tbody>\n",
       "</table>\n",
       "<p>160 rows × 3 columns</p>\n",
       "</div>"
      ],
      "text/plain": [
       "               filename                     box  class\n",
       "0    S2-N0002M00003.jpg  [1249, 161, 1302, 231]      0\n",
       "1    S2-N0002M00005.jpg    [880, 287, 944, 372]      0\n",
       "2    S2-N0002M00137.jpg     [778, 39, 876, 189]      1\n",
       "3    S2-N0002M00138.jpg    [788, 253, 842, 310]      0\n",
       "4    S2-N0002M00138.jpg    [757, 332, 859, 496]      1\n",
       "..                  ...                     ...    ...\n",
       "155  S2-O0001M00404.jpg    [393, 225, 454, 299]      0\n",
       "156  S2-O0001M00405.jpg    [581, 218, 664, 314]      0\n",
       "157  S2-O0001M00406.jpg    [712, 192, 809, 300]      0\n",
       "158  S2-O0001M00406.jpg    [517, 250, 838, 542]      1\n",
       "159  S2-O0001M00407.jpg   [860, 314, 1202, 698]      1\n",
       "\n",
       "[160 rows x 3 columns]"
      ]
     },
     "execution_count": 58,
     "metadata": {},
     "output_type": "execute_result"
    }
   ],
   "source": [
    "total_df"
   ]
  },
  {
   "cell_type": "code",
   "execution_count": 60,
   "id": "458e98da-017d-4320-b84d-554c7191d277",
   "metadata": {},
   "outputs": [],
   "source": [
    "total_df1 = pd.merge(total_df,df_1,on='filename')"
   ]
  },
  {
   "cell_type": "code",
   "execution_count": 61,
   "id": "6fafb715-700f-43a5-878f-a83618b8bd77",
   "metadata": {},
   "outputs": [
    {
     "data": {
      "text/html": [
       "<div>\n",
       "<style scoped>\n",
       "    .dataframe tbody tr th:only-of-type {\n",
       "        vertical-align: middle;\n",
       "    }\n",
       "\n",
       "    .dataframe tbody tr th {\n",
       "        vertical-align: top;\n",
       "    }\n",
       "\n",
       "    .dataframe thead th {\n",
       "        text-align: right;\n",
       "    }\n",
       "</style>\n",
       "<table border=\"1\" class=\"dataframe\">\n",
       "  <thead>\n",
       "    <tr style=\"text-align: right;\">\n",
       "      <th></th>\n",
       "      <th>filename</th>\n",
       "      <th>box</th>\n",
       "      <th>class</th>\n",
       "      <th>width</th>\n",
       "      <th>height</th>\n",
       "    </tr>\n",
       "  </thead>\n",
       "  <tbody>\n",
       "    <tr>\n",
       "      <th>0</th>\n",
       "      <td>S2-N0002M00003.jpg</td>\n",
       "      <td>[1249, 161, 1302, 231]</td>\n",
       "      <td>0</td>\n",
       "      <td>1920</td>\n",
       "      <td>1080</td>\n",
       "    </tr>\n",
       "    <tr>\n",
       "      <th>1</th>\n",
       "      <td>S2-N0002M00005.jpg</td>\n",
       "      <td>[880, 287, 944, 372]</td>\n",
       "      <td>0</td>\n",
       "      <td>1920</td>\n",
       "      <td>1080</td>\n",
       "    </tr>\n",
       "    <tr>\n",
       "      <th>2</th>\n",
       "      <td>S2-N0002M00137.jpg</td>\n",
       "      <td>[778, 39, 876, 189]</td>\n",
       "      <td>1</td>\n",
       "      <td>1920</td>\n",
       "      <td>1080</td>\n",
       "    </tr>\n",
       "    <tr>\n",
       "      <th>3</th>\n",
       "      <td>S2-N0002M00138.jpg</td>\n",
       "      <td>[788, 253, 842, 310]</td>\n",
       "      <td>0</td>\n",
       "      <td>1920</td>\n",
       "      <td>1080</td>\n",
       "    </tr>\n",
       "    <tr>\n",
       "      <th>4</th>\n",
       "      <td>S2-N0002M00138.jpg</td>\n",
       "      <td>[757, 332, 859, 496]</td>\n",
       "      <td>1</td>\n",
       "      <td>1920</td>\n",
       "      <td>1080</td>\n",
       "    </tr>\n",
       "    <tr>\n",
       "      <th>...</th>\n",
       "      <td>...</td>\n",
       "      <td>...</td>\n",
       "      <td>...</td>\n",
       "      <td>...</td>\n",
       "      <td>...</td>\n",
       "    </tr>\n",
       "    <tr>\n",
       "      <th>155</th>\n",
       "      <td>S2-O0001M00404.jpg</td>\n",
       "      <td>[393, 225, 454, 299]</td>\n",
       "      <td>0</td>\n",
       "      <td>1280</td>\n",
       "      <td>720</td>\n",
       "    </tr>\n",
       "    <tr>\n",
       "      <th>156</th>\n",
       "      <td>S2-O0001M00405.jpg</td>\n",
       "      <td>[581, 218, 664, 314]</td>\n",
       "      <td>0</td>\n",
       "      <td>1280</td>\n",
       "      <td>720</td>\n",
       "    </tr>\n",
       "    <tr>\n",
       "      <th>157</th>\n",
       "      <td>S2-O0001M00406.jpg</td>\n",
       "      <td>[712, 192, 809, 300]</td>\n",
       "      <td>0</td>\n",
       "      <td>1280</td>\n",
       "      <td>720</td>\n",
       "    </tr>\n",
       "    <tr>\n",
       "      <th>158</th>\n",
       "      <td>S2-O0001M00406.jpg</td>\n",
       "      <td>[517, 250, 838, 542]</td>\n",
       "      <td>1</td>\n",
       "      <td>1280</td>\n",
       "      <td>720</td>\n",
       "    </tr>\n",
       "    <tr>\n",
       "      <th>159</th>\n",
       "      <td>S2-O0001M00407.jpg</td>\n",
       "      <td>[860, 314, 1202, 698]</td>\n",
       "      <td>1</td>\n",
       "      <td>1280</td>\n",
       "      <td>720</td>\n",
       "    </tr>\n",
       "  </tbody>\n",
       "</table>\n",
       "<p>160 rows × 5 columns</p>\n",
       "</div>"
      ],
      "text/plain": [
       "               filename                     box  class  width  height\n",
       "0    S2-N0002M00003.jpg  [1249, 161, 1302, 231]      0   1920    1080\n",
       "1    S2-N0002M00005.jpg    [880, 287, 944, 372]      0   1920    1080\n",
       "2    S2-N0002M00137.jpg     [778, 39, 876, 189]      1   1920    1080\n",
       "3    S2-N0002M00138.jpg    [788, 253, 842, 310]      0   1920    1080\n",
       "4    S2-N0002M00138.jpg    [757, 332, 859, 496]      1   1920    1080\n",
       "..                  ...                     ...    ...    ...     ...\n",
       "155  S2-O0001M00404.jpg    [393, 225, 454, 299]      0   1280     720\n",
       "156  S2-O0001M00405.jpg    [581, 218, 664, 314]      0   1280     720\n",
       "157  S2-O0001M00406.jpg    [712, 192, 809, 300]      0   1280     720\n",
       "158  S2-O0001M00406.jpg    [517, 250, 838, 542]      1   1280     720\n",
       "159  S2-O0001M00407.jpg   [860, 314, 1202, 698]      1   1280     720\n",
       "\n",
       "[160 rows x 5 columns]"
      ]
     },
     "execution_count": 61,
     "metadata": {},
     "output_type": "execute_result"
    }
   ],
   "source": [
    "total_df1"
   ]
  },
  {
   "cell_type": "code",
   "execution_count": 85,
   "id": "b6136f26-a867-483b-9a94-90f70a20f5db",
   "metadata": {},
   "outputs": [],
   "source": [
    "import ast"
   ]
  },
  {
   "cell_type": "code",
   "execution_count": 74,
   "id": "e93fd5ed-f58f-4acb-8628-92f63ae5db84",
   "metadata": {},
   "outputs": [],
   "source": [
    "def convert_bbox_to_yolo(xmin, ymin, xmax, ymax, image_width, image_height):\n",
    "    x_center = (xmin + xmax) / 2\n",
    "    y_center = (ymin + ymax) / 2\n",
    "    width = xmax - xmin\n",
    "    height = ymax - ymin\n",
    "    x_center_relative = x_center / image_width\n",
    "    y_center_relative = y_center / image_height\n",
    "    width_relative = width / image_width\n",
    "    height_relative = height / image_height\n",
    "    yolo_bbox = [x_center_relative, y_center_relative, width_relative, height_relative]\n",
    "    return yolo_bbox"
   ]
  },
  {
   "cell_type": "code",
   "execution_count": 90,
   "id": "67dbe976-bf88-44e8-93b5-007c81986bd3",
   "metadata": {
    "scrolled": true
   },
   "outputs": [],
   "source": [
    "# for index,row in total_df1.iterrows():\n",
    "#     a = ast.literal_eval(row['box'])\n",
    "#     change = convert_bbox_to_yolo(a[0],a[1],a[2],a[3],row['width'],row['height'])\n",
    "#     print(change)\n",
    "    "
   ]
  },
  {
   "cell_type": "code",
   "execution_count": 91,
   "id": "334c6ee8-2b68-4563-ac55-94c367e5b2d3",
   "metadata": {},
   "outputs": [],
   "source": [
    "total_df1['box'] = total_df1['box'].apply(lambda box: ast.literal_eval(box))"
   ]
  },
  {
   "cell_type": "code",
   "execution_count": 92,
   "id": "02f749cd-0b5c-4acd-8c50-d168f634c6fc",
   "metadata": {},
   "outputs": [],
   "source": [
    "total_df1['bbox'] = total_df1.apply(lambda row: convert_bbox_to_yolo(row['box'][0], row['box'][1], row['box'][2], row['box'][3], row['width'], row['height']), axis=1)"
   ]
  },
  {
   "cell_type": "code",
   "execution_count": 93,
   "id": "eabd85fc-3ce2-4f17-88b5-65e6792d1ddd",
   "metadata": {},
   "outputs": [
    {
     "data": {
      "text/html": [
       "<div>\n",
       "<style scoped>\n",
       "    .dataframe tbody tr th:only-of-type {\n",
       "        vertical-align: middle;\n",
       "    }\n",
       "\n",
       "    .dataframe tbody tr th {\n",
       "        vertical-align: top;\n",
       "    }\n",
       "\n",
       "    .dataframe thead th {\n",
       "        text-align: right;\n",
       "    }\n",
       "</style>\n",
       "<table border=\"1\" class=\"dataframe\">\n",
       "  <thead>\n",
       "    <tr style=\"text-align: right;\">\n",
       "      <th></th>\n",
       "      <th>filename</th>\n",
       "      <th>box</th>\n",
       "      <th>class</th>\n",
       "      <th>width</th>\n",
       "      <th>height</th>\n",
       "      <th>bbox</th>\n",
       "    </tr>\n",
       "  </thead>\n",
       "  <tbody>\n",
       "    <tr>\n",
       "      <th>0</th>\n",
       "      <td>S2-N0002M00003.jpg</td>\n",
       "      <td>[1249, 161, 1302, 231]</td>\n",
       "      <td>0</td>\n",
       "      <td>1920</td>\n",
       "      <td>1080</td>\n",
       "      <td>[0.6643229166666667, 0.1814814814814815, 0.027...</td>\n",
       "    </tr>\n",
       "    <tr>\n",
       "      <th>1</th>\n",
       "      <td>S2-N0002M00005.jpg</td>\n",
       "      <td>[880, 287, 944, 372]</td>\n",
       "      <td>0</td>\n",
       "      <td>1920</td>\n",
       "      <td>1080</td>\n",
       "      <td>[0.475, 0.3050925925925926, 0.0333333333333333...</td>\n",
       "    </tr>\n",
       "    <tr>\n",
       "      <th>2</th>\n",
       "      <td>S2-N0002M00137.jpg</td>\n",
       "      <td>[778, 39, 876, 189]</td>\n",
       "      <td>1</td>\n",
       "      <td>1920</td>\n",
       "      <td>1080</td>\n",
       "      <td>[0.43072916666666666, 0.10555555555555556, 0.0...</td>\n",
       "    </tr>\n",
       "    <tr>\n",
       "      <th>3</th>\n",
       "      <td>S2-N0002M00138.jpg</td>\n",
       "      <td>[788, 253, 842, 310]</td>\n",
       "      <td>0</td>\n",
       "      <td>1920</td>\n",
       "      <td>1080</td>\n",
       "      <td>[0.4244791666666667, 0.26064814814814813, 0.02...</td>\n",
       "    </tr>\n",
       "    <tr>\n",
       "      <th>4</th>\n",
       "      <td>S2-N0002M00138.jpg</td>\n",
       "      <td>[757, 332, 859, 496]</td>\n",
       "      <td>1</td>\n",
       "      <td>1920</td>\n",
       "      <td>1080</td>\n",
       "      <td>[0.42083333333333334, 0.38333333333333336, 0.0...</td>\n",
       "    </tr>\n",
       "    <tr>\n",
       "      <th>...</th>\n",
       "      <td>...</td>\n",
       "      <td>...</td>\n",
       "      <td>...</td>\n",
       "      <td>...</td>\n",
       "      <td>...</td>\n",
       "      <td>...</td>\n",
       "    </tr>\n",
       "    <tr>\n",
       "      <th>155</th>\n",
       "      <td>S2-O0001M00404.jpg</td>\n",
       "      <td>[393, 225, 454, 299]</td>\n",
       "      <td>0</td>\n",
       "      <td>1280</td>\n",
       "      <td>720</td>\n",
       "      <td>[0.330859375, 0.3638888888888889, 0.04765625, ...</td>\n",
       "    </tr>\n",
       "    <tr>\n",
       "      <th>156</th>\n",
       "      <td>S2-O0001M00405.jpg</td>\n",
       "      <td>[581, 218, 664, 314]</td>\n",
       "      <td>0</td>\n",
       "      <td>1280</td>\n",
       "      <td>720</td>\n",
       "      <td>[0.486328125, 0.36944444444444446, 0.06484375,...</td>\n",
       "    </tr>\n",
       "    <tr>\n",
       "      <th>157</th>\n",
       "      <td>S2-O0001M00406.jpg</td>\n",
       "      <td>[712, 192, 809, 300]</td>\n",
       "      <td>0</td>\n",
       "      <td>1280</td>\n",
       "      <td>720</td>\n",
       "      <td>[0.594140625, 0.3416666666666667, 0.07578125, ...</td>\n",
       "    </tr>\n",
       "    <tr>\n",
       "      <th>158</th>\n",
       "      <td>S2-O0001M00406.jpg</td>\n",
       "      <td>[517, 250, 838, 542]</td>\n",
       "      <td>1</td>\n",
       "      <td>1280</td>\n",
       "      <td>720</td>\n",
       "      <td>[0.529296875, 0.55, 0.25078125, 0.405555555555...</td>\n",
       "    </tr>\n",
       "    <tr>\n",
       "      <th>159</th>\n",
       "      <td>S2-O0001M00407.jpg</td>\n",
       "      <td>[860, 314, 1202, 698]</td>\n",
       "      <td>1</td>\n",
       "      <td>1280</td>\n",
       "      <td>720</td>\n",
       "      <td>[0.80546875, 0.7027777777777777, 0.2671875, 0....</td>\n",
       "    </tr>\n",
       "  </tbody>\n",
       "</table>\n",
       "<p>160 rows × 6 columns</p>\n",
       "</div>"
      ],
      "text/plain": [
       "               filename                     box  class  width  height  \\\n",
       "0    S2-N0002M00003.jpg  [1249, 161, 1302, 231]      0   1920    1080   \n",
       "1    S2-N0002M00005.jpg    [880, 287, 944, 372]      0   1920    1080   \n",
       "2    S2-N0002M00137.jpg     [778, 39, 876, 189]      1   1920    1080   \n",
       "3    S2-N0002M00138.jpg    [788, 253, 842, 310]      0   1920    1080   \n",
       "4    S2-N0002M00138.jpg    [757, 332, 859, 496]      1   1920    1080   \n",
       "..                  ...                     ...    ...    ...     ...   \n",
       "155  S2-O0001M00404.jpg    [393, 225, 454, 299]      0   1280     720   \n",
       "156  S2-O0001M00405.jpg    [581, 218, 664, 314]      0   1280     720   \n",
       "157  S2-O0001M00406.jpg    [712, 192, 809, 300]      0   1280     720   \n",
       "158  S2-O0001M00406.jpg    [517, 250, 838, 542]      1   1280     720   \n",
       "159  S2-O0001M00407.jpg   [860, 314, 1202, 698]      1   1280     720   \n",
       "\n",
       "                                                  bbox  \n",
       "0    [0.6643229166666667, 0.1814814814814815, 0.027...  \n",
       "1    [0.475, 0.3050925925925926, 0.0333333333333333...  \n",
       "2    [0.43072916666666666, 0.10555555555555556, 0.0...  \n",
       "3    [0.4244791666666667, 0.26064814814814813, 0.02...  \n",
       "4    [0.42083333333333334, 0.38333333333333336, 0.0...  \n",
       "..                                                 ...  \n",
       "155  [0.330859375, 0.3638888888888889, 0.04765625, ...  \n",
       "156  [0.486328125, 0.36944444444444446, 0.06484375,...  \n",
       "157  [0.594140625, 0.3416666666666667, 0.07578125, ...  \n",
       "158  [0.529296875, 0.55, 0.25078125, 0.405555555555...  \n",
       "159  [0.80546875, 0.7027777777777777, 0.2671875, 0....  \n",
       "\n",
       "[160 rows x 6 columns]"
      ]
     },
     "execution_count": 93,
     "metadata": {},
     "output_type": "execute_result"
    }
   ],
   "source": [
    "total_df1"
   ]
  },
  {
   "cell_type": "code",
   "execution_count": 95,
   "id": "b3954613-148c-4e99-82b8-551a1a39de90",
   "metadata": {},
   "outputs": [
    {
     "name": "stdout",
     "output_type": "stream",
     "text": [
      "YOLO label .txt files created in 'val_labels' folder.\n"
     ]
    }
   ],
   "source": [
    "def create_yolo_label_txt(row):\n",
    "    class_id = row['class']\n",
    "    bbox = row['bbox']\n",
    "    yolo_label = f\"{class_id} {bbox[0]:.6f} {bbox[1]:.6f} {bbox[2]:.6f} {bbox[3]:.6f}\"\n",
    "    return yolo_label\n",
    "\n",
    "# 'train_labels' 폴더 생성\n",
    "val_labels_folder = 'labels'\n",
    "if not os.path.exists(val_labels_folder):\n",
    "    os.makedirs(val_labels_folder)\n",
    "\n",
    "# YOLO 레이블 생성 및 .txt 파일 생성\n",
    "for index, row in total_df1.iterrows():\n",
    "    txt_filename = row['filename'].replace('.jpg', '.txt')\n",
    "    txt_filepath = os.path.join(val_labels_folder, txt_filename)\n",
    "    \n",
    "    yolo_label = create_yolo_label_txt(row)\n",
    "    \n",
    "    with open(txt_filepath, 'w') as f:\n",
    "        f.write(yolo_label)\n",
    "\n",
    "print(\"YOLO label .txt files created in 'val_labels' folder.\")"
   ]
  },
  {
   "cell_type": "code",
   "execution_count": 98,
   "id": "f36e7de5-f288-4e95-8488-5b8b61b2b14e",
   "metadata": {},
   "outputs": [
    {
     "data": {
      "text/plain": [
       "150"
      ]
     },
     "execution_count": 98,
     "metadata": {},
     "output_type": "execute_result"
    }
   ],
   "source": [
    "len(os.listdir('labels'))\n",
    "len(os.listdir('image_data/image_data/1.공공주택_클래스분류_동탄'))"
   ]
  },
  {
   "cell_type": "code",
   "execution_count": 35,
   "id": "883697b6-f094-4bc3-af92-6e1be20e9cd2",
   "metadata": {},
   "outputs": [
    {
     "data": {
      "text/plain": [
       "150"
      ]
     },
     "execution_count": 35,
     "metadata": {},
     "output_type": "execute_result"
    }
   ],
   "source": [
    "len(set(total_df['filename']))"
   ]
  },
  {
   "cell_type": "code",
   "execution_count": 27,
   "id": "d14b0b2d-d998-48e3-95b4-979ff767befc",
   "metadata": {},
   "outputs": [
    {
     "name": "stdout",
     "output_type": "stream",
     "text": [
      ".ipynb_checkpoints\n",
      "S2-N0002M00003.jpg\n",
      "S2-N0002M00005.jpg\n",
      "S2-N0002M00137.jpg\n",
      "S2-N0002M00138.jpg\n",
      "S2-N0002M00139.jpg\n",
      "S2-N0002M00140.jpg\n",
      "S2-N0002M00141.jpg\n",
      "S2-N0002M00157.jpg\n",
      "S2-N0002M00158.jpg\n",
      "S2-N0002M00159.jpg\n",
      "S2-N0002M00162.jpg\n",
      "S2-N0002M00164.jpg\n",
      "S2-N0002M00204.jpg\n",
      "S2-N0002M00205.jpg\n",
      "S2-N0002M00206.jpg\n",
      "S2-N0002M00221.jpg\n",
      "S2-N0002M00222.jpg\n",
      "S2-N0002M00223.jpg\n",
      "S2-N0002M00224.jpg\n",
      "S2-N0002M00246.jpg\n",
      "S2-N0002M00247.jpg\n",
      "S2-N0002M00248.jpg\n",
      "S2-N0002M00249.jpg\n",
      "S2-N0002M00251.jpg\n",
      "S2-O0001M00001.jpg\n",
      "S2-O0001M00002.jpg\n",
      "S2-O0001M00003.jpg\n",
      "S2-O0001M00004.jpg\n",
      "S2-O0001M00005.jpg\n",
      "S2-O0001M00006.jpg\n",
      "S2-O0001M00007.jpg\n",
      "S2-O0001M00008.jpg\n",
      "S2-O0001M00010.jpg\n",
      "S2-O0001M00011.jpg\n",
      "S2-O0001M00012.jpg\n",
      "S2-O0001M00013.jpg\n",
      "S2-O0001M00014.jpg\n",
      "S2-O0001M00015.jpg\n",
      "S2-O0001M00016.jpg\n",
      "S2-O0001M00017.jpg\n",
      "S2-O0001M00018.jpg\n",
      "S2-O0001M00019.jpg\n",
      "S2-O0001M00020.jpg\n",
      "S2-O0001M00021.jpg\n",
      "S2-O0001M00022.jpg\n",
      "S2-O0001M00023.jpg\n",
      "S2-O0001M00024.jpg\n",
      "S2-O0001M00025.jpg\n",
      "S2-O0001M00026.jpg\n",
      "S2-O0001M00027.jpg\n",
      "S2-O0001M00028.jpg\n",
      "S2-O0001M00029.jpg\n",
      "S2-O0001M00030.jpg\n",
      "S2-O0001M00032.jpg\n",
      "S2-O0001M00034.jpg\n",
      "S2-O0001M00035.jpg\n",
      "S2-O0001M00036.jpg\n",
      "S2-O0001M00037.jpg\n",
      "S2-O0001M00038.jpg\n",
      "S2-O0001M00039.jpg\n",
      "S2-O0001M00040.jpg\n",
      "S2-O0001M00041.jpg\n",
      "S2-O0001M00042.jpg\n",
      "S2-O0001M00043.jpg\n",
      "S2-O0001M00045.jpg\n",
      "S2-O0001M00046.jpg\n",
      "S2-O0001M00047.jpg\n",
      "S2-O0001M00048.jpg\n",
      "S2-O0001M00051.jpg\n",
      "S2-O0001M00052.jpg\n",
      "S2-O0001M00053.jpg\n",
      "S2-O0001M00054.jpg\n",
      "S2-O0001M00055.jpg\n",
      "S2-O0001M00056.jpg\n",
      "S2-O0001M00058.jpg\n",
      "S2-O0001M00059.jpg\n",
      "S2-O0001M00060.jpg\n",
      "S2-O0001M00061.jpg\n",
      "S2-O0001M00062.jpg\n",
      "S2-O0001M00064.jpg\n",
      "S2-O0001M00071.jpg\n",
      "S2-O0001M00072.jpg\n",
      "S2-O0001M00073.jpg\n",
      "S2-O0001M00074.jpg\n",
      "S2-O0001M00075.jpg\n",
      "S2-O0001M00076.jpg\n",
      "S2-O0001M00094.jpg\n",
      "S2-O0001M00098.jpg\n",
      "S2-O0001M00099.jpg\n",
      "S2-O0001M00100.jpg\n",
      "S2-O0001M00101.jpg\n",
      "S2-O0001M00102.jpg\n",
      "S2-O0001M00114.jpg\n",
      "S2-O0001M00115.jpg\n",
      "S2-O0001M00116.jpg\n",
      "S2-O0001M00117.jpg\n",
      "S2-O0001M00118.jpg\n",
      "S2-O0001M00119.jpg\n",
      "S2-O0001M00120.jpg\n",
      "S2-O0001M00121.jpg\n",
      "S2-O0001M00122.jpg\n",
      "S2-O0001M00123.jpg\n",
      "S2-O0001M00124.jpg\n",
      "S2-O0001M00129.jpg\n",
      "S2-O0001M00133.jpg\n",
      "S2-O0001M00134.jpg\n",
      "S2-O0001M00136.jpg\n",
      "S2-O0001M00137.jpg\n",
      "S2-O0001M00138.jpg\n",
      "S2-O0001M00139.jpg\n",
      "S2-O0001M00140.jpg\n",
      "S2-O0001M00141.jpg\n",
      "S2-O0001M00142.jpg\n",
      "S2-O0001M00143.jpg\n",
      "S2-O0001M00144.jpg\n",
      "S2-O0001M00145.jpg\n",
      "S2-O0001M00146.jpg\n",
      "S2-O0001M00147.jpg\n",
      "S2-O0001M00148.jpg\n",
      "S2-O0001M00149.jpg\n",
      "S2-O0001M00150.jpg\n",
      "S2-O0001M00151.jpg\n",
      "S2-O0001M00155.jpg\n",
      "S2-O0001M00156.jpg\n",
      "S2-O0001M00157.jpg\n",
      "S2-O0001M00158.jpg\n",
      "S2-O0001M00159.jpg\n",
      "S2-O0001M00160.jpg\n",
      "S2-O0001M00161.jpg\n",
      "S2-O0001M00162.jpg\n",
      "S2-O0001M00163.jpg\n",
      "S2-O0001M00165.jpg\n",
      "S2-O0001M00166.jpg\n",
      "S2-O0001M00167.jpg\n",
      "S2-O0001M00169.jpg\n",
      "S2-O0001M00170.jpg\n",
      "S2-O0001M00171.jpg\n",
      "S2-O0001M00172.jpg\n",
      "S2-O0001M00174.jpg\n",
      "S2-O0001M00175.jpg\n",
      "S2-O0001M00181.jpg\n",
      "S2-O0001M00185.jpg\n",
      "S2-O0001M00186.jpg\n",
      "S2-O0001M00187.jpg\n",
      "S2-O0001M00188.jpg\n",
      "S2-O0001M00189.jpg\n",
      "S2-O0001M00190.jpg\n",
      "S2-O0001M00191.jpg\n",
      "S2-O0001M00349.jpg\n",
      "S2-O0001M00362.jpg\n",
      "S2-O0001M00366.jpg\n",
      "S2-O0001M00367.jpg\n",
      "S2-O0001M00368.jpg\n",
      "S2-O0001M00404.jpg\n",
      "S2-O0001M00405.jpg\n",
      "S2-O0001M00406.jpg\n",
      "S2-O0001M00407.jpg\n"
     ]
    }
   ],
   "source": [
    "for i in os.listdir('image_data/image_data/1.공공주택_클래스분류_동탄'):\n",
    "    if i not in total_df['filename']:\n",
    "        os.remove(f'image_data/image_data/1.공공주택_클래스분류_주안/{i}')"
   ]
  },
  {
   "cell_type": "code",
   "execution_count": 20,
   "id": "556ae936-c8e5-412d-8e31-f35ae08a5f72",
   "metadata": {},
   "outputs": [
    {
     "data": {
      "text/plain": [
       "[]"
      ]
     },
     "execution_count": 20,
     "metadata": {},
     "output_type": "execute_result"
    }
   ],
   "source": [
    "os.listdir('image_data/image_data/1.공공주택_클래스분류_주안')"
   ]
  }
 ],
 "metadata": {
  "kernelspec": {
   "display_name": "Python 3 (ipykernel)",
   "language": "python",
   "name": "python3"
  },
  "language_info": {
   "codemirror_mode": {
    "name": "ipython",
    "version": 3
   },
   "file_extension": ".py",
   "mimetype": "text/x-python",
   "name": "python",
   "nbconvert_exporter": "python",
   "pygments_lexer": "ipython3",
   "version": "3.10.11"
  }
 },
 "nbformat": 4,
 "nbformat_minor": 5
}
