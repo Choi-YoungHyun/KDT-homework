{
 "cells": [
  {
   "cell_type": "code",
   "execution_count": 3,
   "id": "57ac9954-9bc5-434b-9f6f-d50ce77169cd",
   "metadata": {},
   "outputs": [
    {
     "name": "stdout",
     "output_type": "stream",
     "text": [
      "Collecting wget\n",
      "  Downloading wget-3.2.zip (10 kB)\n",
      "  Installing build dependencies: started\n",
      "  Installing build dependencies: finished with status 'done'\n",
      "  Getting requirements to build wheel: started\n",
      "  Getting requirements to build wheel: finished with status 'done'\n",
      "  Preparing metadata (pyproject.toml): started\n",
      "  Preparing metadata (pyproject.toml): finished with status 'done'\n",
      "Building wheels for collected packages: wget\n",
      "  Building wheel for wget (pyproject.toml): started\n",
      "  Building wheel for wget (pyproject.toml): finished with status 'done'\n",
      "  Created wheel for wget: filename=wget-3.2-py3-none-any.whl size=9680 sha256=1a3f9dd24b40dad1cf8568cc9fecc77684bc76d56b9ad07746a91f2e317d7262\n",
      "  Stored in directory: c:\\users\\administrator\\appdata\\local\\pip\\cache\\wheels\\8b\\f1\\7f\\5c94f0a7a505ca1c81cd1d9208ae2064675d97582078e6c769\n",
      "Successfully built wget\n",
      "Installing collected packages: wget\n",
      "Successfully installed wget-3.2\n"
     ]
    },
    {
     "name": "stderr",
     "output_type": "stream",
     "text": [
      "WARNING: Ignoring invalid distribution -pencv-python-headless (c:\\users\\administrator\\appdata\\roaming\\python\\python310\\site-packages)\n",
      "WARNING: Ignoring invalid distribution -pencv-python-headless (c:\\users\\administrator\\appdata\\roaming\\python\\python310\\site-packages)\n",
      "WARNING: Ignoring invalid distribution -pencv-python-headless (c:\\users\\administrator\\appdata\\roaming\\python\\python310\\site-packages)\n",
      "WARNING: Ignoring invalid distribution -pencv-python-headless (c:\\users\\administrator\\appdata\\roaming\\python\\python310\\site-packages)\n",
      "WARNING: Ignoring invalid distribution -pencv-python-headless (c:\\users\\administrator\\appdata\\roaming\\python\\python310\\site-packages)\n",
      "WARNING: Ignoring invalid distribution -pencv-python-headless (c:\\users\\administrator\\appdata\\roaming\\python\\python310\\site-packages)\n"
     ]
    }
   ],
   "source": [
    "!pip install wget"
   ]
  },
  {
   "cell_type": "code",
   "execution_count": 6,
   "id": "248cdce5-09df-4c69-a086-b74f39780dad",
   "metadata": {},
   "outputs": [],
   "source": [
    "import wget"
   ]
  },
  {
   "cell_type": "code",
   "execution_count": 11,
   "id": "90d9ef60-90ae-4d63-9685-5f8ec4679f01",
   "metadata": {},
   "outputs": [
    {
     "name": "stdout",
     "output_type": "stream",
     "text": [
      "100% [......................................................................] 815585330 / 815585330"
     ]
    },
    {
     "data": {
      "text/plain": [
       "'val2017.zip'"
      ]
     },
     "execution_count": 11,
     "metadata": {},
     "output_type": "execute_result"
    }
   ],
   "source": [
    "# 이미지 파일 다운\n",
    "wget.download('http://images.cocodataset.org/zips/val2017.zip') "
   ]
  },
  {
   "cell_type": "code",
   "execution_count": 63,
   "id": "18ef01e0-e2b4-4e57-bbde-a213690f45be",
   "metadata": {},
   "outputs": [
    {
     "name": "stdout",
     "output_type": "stream",
     "text": [
      "100% [......................................................................] 252907541 / 252907541"
     ]
    },
    {
     "data": {
      "text/plain": [
       "'annotations_trainval2017.zip'"
      ]
     },
     "execution_count": 63,
     "metadata": {},
     "output_type": "execute_result"
    }
   ],
   "source": [
    "# 어노테이션 다운\n",
    "wget.download('http://images.cocodataset.org/annotations/annotations_trainval2017.zip')"
   ]
  },
  {
   "cell_type": "code",
   "execution_count": 32,
   "id": "c858c0ea-7192-4f5e-bf01-f1a98624037d",
   "metadata": {},
   "outputs": [
    {
     "data": {
      "text/plain": [
       "5000"
      ]
     },
     "execution_count": 32,
     "metadata": {},
     "output_type": "execute_result"
    }
   ],
   "source": [
    "# 총 개수 확인\n",
    "len(os.listdir('val2017/val2017'))"
   ]
  },
  {
   "cell_type": "code",
   "execution_count": null,
   "id": "81c9b7f3-63a3-473e-883d-fcbe2a8a5131",
   "metadata": {},
   "outputs": [],
   "source": [
    "#파일이름 맞추기\n",
    "for i in os.listdir('val2017/val2017'):\n",
    "    os.rename(f'val2017/val2017/{i}', f'val2017/val2017/{i.lstrip(\"0\")}')"
   ]
  },
  {
   "cell_type": "code",
   "execution_count": 72,
   "id": "3b9777e8-61e6-446f-a346-35ba2997ce17",
   "metadata": {},
   "outputs": [],
   "source": [
    "# 어노테이션 불러와서 데이터 뽑아오기\n",
    "import json\n",
    "json_path = 'annotations_trainval2017/annotations/instances_val2017.json'\n",
    "\n",
    "with open(json_path, \"r\") as f:\n",
    "    json_data = json.load(f)"
   ]
  },
  {
   "cell_type": "code",
   "execution_count": 56,
   "id": "62117cf6-5017-4b41-afcc-b55fe685605f",
   "metadata": {},
   "outputs": [
    {
     "data": {
      "text/plain": [
       "'000000397133.jpg'"
      ]
     },
     "execution_count": 56,
     "metadata": {},
     "output_type": "execute_result"
    }
   ],
   "source": [
    "#파일이름\n",
    "json_data['images'][0]['file_name']\n",
    "# 높이\n",
    "json_data['images'][0]['height']\n",
    "# 넓이\n",
    "json_data['images'][0]['width']\n",
    "# 파일 아이디\n",
    "json_data['images'][0]['id']"
   ]
  },
  {
   "cell_type": "code",
   "execution_count": 307,
   "id": "09242ba2-3bb9-4942-b046-472a92f78b34",
   "metadata": {},
   "outputs": [],
   "source": [
    "#가로,세로,파일이름 가져오기\n",
    "w1= []\n",
    "h1= []\n",
    "f1= []\n",
    "for i in json_data['images']:\n",
    "    if i['file_name'].lstrip(\"0\") in real_file_list:\n",
    "        w1.append(i['width'])\n",
    "        h1.append(i['height'])\n",
    "        f1.append(i['file_name'].lstrip(\"0\"))\n",
    "        "
   ]
  },
  {
   "cell_type": "code",
   "execution_count": 308,
   "id": "3eac3c2d-1ca8-4f3f-a989-fc8850a819cf",
   "metadata": {},
   "outputs": [],
   "source": [
    "#파일 이름 jpg 만 빼고 가져오고싶어서 사용\n",
    "ff1 = []\n",
    "for i in f1:\n",
    "    ff1.append(i.replace('.jpg',''))"
   ]
  },
  {
   "cell_type": "code",
   "execution_count": 309,
   "id": "28fb70e5-4c15-4385-b534-7c54d9e9a760",
   "metadata": {},
   "outputs": [],
   "source": [
    "#오름차순 정렬 후 인덱스 초기화 \n",
    "# 타입을 int로 바꿈 \n",
    "df_3 = pd.DataFrame({'width':w1,'height':h1,'image':ff1})\n",
    "df_3.sort_values('image').reset_index(drop=True)\n",
    "df_4 = df_3.astype('int64')"
   ]
  },
  {
   "cell_type": "code",
   "execution_count": 347,
   "id": "59e0b3a1-0e8a-4afd-bd6e-e8ac49dd4482",
   "metadata": {},
   "outputs": [
    {
     "data": {
      "text/html": [
       "<div>\n",
       "<style scoped>\n",
       "    .dataframe tbody tr th:only-of-type {\n",
       "        vertical-align: middle;\n",
       "    }\n",
       "\n",
       "    .dataframe tbody tr th {\n",
       "        vertical-align: top;\n",
       "    }\n",
       "\n",
       "    .dataframe thead th {\n",
       "        text-align: right;\n",
       "    }\n",
       "</style>\n",
       "<table border=\"1\" class=\"dataframe\">\n",
       "  <thead>\n",
       "    <tr style=\"text-align: right;\">\n",
       "      <th></th>\n",
       "      <th>image</th>\n",
       "      <th>class</th>\n",
       "      <th>bbox</th>\n",
       "    </tr>\n",
       "  </thead>\n",
       "  <tbody>\n",
       "    <tr>\n",
       "      <th>0</th>\n",
       "      <td>1675</td>\n",
       "      <td>17</td>\n",
       "      <td>[0.0, 14.01, 640.0, 293.56]</td>\n",
       "    </tr>\n",
       "    <tr>\n",
       "      <th>1</th>\n",
       "      <td>1675</td>\n",
       "      <td>76</td>\n",
       "      <td>[61.48, 367.82, 508.05, 105.71]</td>\n",
       "    </tr>\n",
       "    <tr>\n",
       "      <th>2</th>\n",
       "      <td>4795</td>\n",
       "      <td>73</td>\n",
       "      <td>[0.0, 192.0, 174.74, 282.61]</td>\n",
       "    </tr>\n",
       "    <tr>\n",
       "      <th>3</th>\n",
       "      <td>4795</td>\n",
       "      <td>17</td>\n",
       "      <td>[152.77, 113.55, 395.36, 364.39]</td>\n",
       "    </tr>\n",
       "    <tr>\n",
       "      <th>4</th>\n",
       "      <td>4795</td>\n",
       "      <td>72</td>\n",
       "      <td>[19.95, 2.49, 620.05, 349.09]</td>\n",
       "    </tr>\n",
       "    <tr>\n",
       "      <th>...</th>\n",
       "      <td>...</td>\n",
       "      <td>...</td>\n",
       "      <td>...</td>\n",
       "    </tr>\n",
       "    <tr>\n",
       "      <th>1754</th>\n",
       "      <td>574810</td>\n",
       "      <td>17</td>\n",
       "      <td>[64.52, 93.55, 215.05, 366.67]</td>\n",
       "    </tr>\n",
       "    <tr>\n",
       "      <th>1755</th>\n",
       "      <td>575357</td>\n",
       "      <td>18</td>\n",
       "      <td>[250.5, 158.39, 366.49, 199.85]</td>\n",
       "    </tr>\n",
       "    <tr>\n",
       "      <th>1756</th>\n",
       "      <td>575357</td>\n",
       "      <td>34</td>\n",
       "      <td>[39.52, 129.49, 102.3, 59.73]</td>\n",
       "    </tr>\n",
       "    <tr>\n",
       "      <th>1757</th>\n",
       "      <td>579321</td>\n",
       "      <td>1</td>\n",
       "      <td>[94.78, 0.95, 240.66, 211.01]</td>\n",
       "    </tr>\n",
       "    <tr>\n",
       "      <th>1758</th>\n",
       "      <td>579321</td>\n",
       "      <td>18</td>\n",
       "      <td>[200.61, 89.65, 400.22, 251.02]</td>\n",
       "    </tr>\n",
       "  </tbody>\n",
       "</table>\n",
       "<p>1759 rows × 3 columns</p>\n",
       "</div>"
      ],
      "text/plain": [
       "       image  class                              bbox\n",
       "0       1675     17       [0.0, 14.01, 640.0, 293.56]\n",
       "1       1675     76   [61.48, 367.82, 508.05, 105.71]\n",
       "2       4795     73      [0.0, 192.0, 174.74, 282.61]\n",
       "3       4795     17  [152.77, 113.55, 395.36, 364.39]\n",
       "4       4795     72     [19.95, 2.49, 620.05, 349.09]\n",
       "...      ...    ...                               ...\n",
       "1754  574810     17    [64.52, 93.55, 215.05, 366.67]\n",
       "1755  575357     18   [250.5, 158.39, 366.49, 199.85]\n",
       "1756  575357     34     [39.52, 129.49, 102.3, 59.73]\n",
       "1757  579321      1     [94.78, 0.95, 240.66, 211.01]\n",
       "1758  579321     18   [200.61, 89.65, 400.22, 251.02]\n",
       "\n",
       "[1759 rows x 3 columns]"
      ]
     },
     "execution_count": 347,
     "metadata": {},
     "output_type": "execute_result"
    }
   ],
   "source": [
    "df_1"
   ]
  },
  {
   "cell_type": "code",
   "execution_count": 348,
   "id": "b015df05-3bf8-4eb7-a610-d91273aa199e",
   "metadata": {},
   "outputs": [
    {
     "data": {
      "text/html": [
       "<div>\n",
       "<style scoped>\n",
       "    .dataframe tbody tr th:only-of-type {\n",
       "        vertical-align: middle;\n",
       "    }\n",
       "\n",
       "    .dataframe tbody tr th {\n",
       "        vertical-align: top;\n",
       "    }\n",
       "\n",
       "    .dataframe thead th {\n",
       "        text-align: right;\n",
       "    }\n",
       "</style>\n",
       "<table border=\"1\" class=\"dataframe\">\n",
       "  <thead>\n",
       "    <tr style=\"text-align: right;\">\n",
       "      <th></th>\n",
       "      <th>width</th>\n",
       "      <th>height</th>\n",
       "      <th>image</th>\n",
       "    </tr>\n",
       "  </thead>\n",
       "  <tbody>\n",
       "    <tr>\n",
       "      <th>0</th>\n",
       "      <td>640</td>\n",
       "      <td>427</td>\n",
       "      <td>219578</td>\n",
       "    </tr>\n",
       "    <tr>\n",
       "      <th>1</th>\n",
       "      <td>640</td>\n",
       "      <td>371</td>\n",
       "      <td>555705</td>\n",
       "    </tr>\n",
       "    <tr>\n",
       "      <th>2</th>\n",
       "      <td>500</td>\n",
       "      <td>375</td>\n",
       "      <td>443303</td>\n",
       "    </tr>\n",
       "    <tr>\n",
       "      <th>3</th>\n",
       "      <td>640</td>\n",
       "      <td>480</td>\n",
       "      <td>25560</td>\n",
       "    </tr>\n",
       "    <tr>\n",
       "      <th>4</th>\n",
       "      <td>500</td>\n",
       "      <td>375</td>\n",
       "      <td>403817</td>\n",
       "    </tr>\n",
       "    <tr>\n",
       "      <th>...</th>\n",
       "      <td>...</td>\n",
       "      <td>...</td>\n",
       "      <td>...</td>\n",
       "    </tr>\n",
       "    <tr>\n",
       "      <th>344</th>\n",
       "      <td>501</td>\n",
       "      <td>640</td>\n",
       "      <td>360943</td>\n",
       "    </tr>\n",
       "    <tr>\n",
       "      <th>345</th>\n",
       "      <td>349</td>\n",
       "      <td>500</td>\n",
       "      <td>572388</td>\n",
       "    </tr>\n",
       "    <tr>\n",
       "      <th>346</th>\n",
       "      <td>527</td>\n",
       "      <td>640</td>\n",
       "      <td>377000</td>\n",
       "    </tr>\n",
       "    <tr>\n",
       "      <th>347</th>\n",
       "      <td>640</td>\n",
       "      <td>479</td>\n",
       "      <td>198641</td>\n",
       "    </tr>\n",
       "    <tr>\n",
       "      <th>348</th>\n",
       "      <td>480</td>\n",
       "      <td>640</td>\n",
       "      <td>549220</td>\n",
       "    </tr>\n",
       "  </tbody>\n",
       "</table>\n",
       "<p>349 rows × 3 columns</p>\n",
       "</div>"
      ],
      "text/plain": [
       "     width  height   image\n",
       "0      640     427  219578\n",
       "1      640     371  555705\n",
       "2      500     375  443303\n",
       "3      640     480   25560\n",
       "4      500     375  403817\n",
       "..     ...     ...     ...\n",
       "344    501     640  360943\n",
       "345    349     500  572388\n",
       "346    527     640  377000\n",
       "347    640     479  198641\n",
       "348    480     640  549220\n",
       "\n",
       "[349 rows x 3 columns]"
      ]
     },
     "execution_count": 348,
     "metadata": {},
     "output_type": "execute_result"
    }
   ],
   "source": [
    "df_4"
   ]
  },
  {
   "cell_type": "code",
   "execution_count": 349,
   "id": "6313ff82-4a2b-4ca2-8f9a-86415a13cf01",
   "metadata": {},
   "outputs": [],
   "source": [
    "df_total = pd.merge(df_1,df_4, on='image')"
   ]
  },
  {
   "cell_type": "code",
   "execution_count": 306,
   "id": "2ede2477-643a-4d7a-befd-74a3f026358d",
   "metadata": {},
   "outputs": [
    {
     "data": {
      "text/plain": [
       "349"
      ]
     },
     "execution_count": 306,
     "metadata": {},
     "output_type": "execute_result"
    }
   ],
   "source": []
  },
  {
   "cell_type": "code",
   "execution_count": 350,
   "id": "b55a86d7-f0aa-44dd-98ce-80d5b3aaa243",
   "metadata": {},
   "outputs": [
    {
     "data": {
      "text/plain": [
       "349"
      ]
     },
     "execution_count": 350,
     "metadata": {},
     "output_type": "execute_result"
    }
   ],
   "source": [
    "len(set(df_total['image']))"
   ]
  },
  {
   "cell_type": "code",
   "execution_count": 351,
   "id": "562b6d3b-f445-42a1-854c-f3e2ec68e5f1",
   "metadata": {},
   "outputs": [],
   "source": [
    "bboxes = []\n",
    "for i,w,h in zip(df_total['bbox'],df_total['width'],df_total['height']):\n",
    "    x1, y1, x2, y2 = i[0],i[1],i[2],i[3]\n",
    "    image_width, image_height = w, h \n",
    "    \n",
    "    x_center = (x1 + x2) / (2 * image_width)\n",
    "    y_center = (y1 + y2) / (2 * image_height)\n",
    "    yolo_width = x2 / image_width\n",
    "    yolo_height = y2 / image_height\n",
    "    yolo_bbox = [x_center, y_center, yolo_width, yolo_height]\n",
    "\n",
    "    bboxes.append(yolo_bbox)\n",
    "\n",
    "\n",
    "    # YOLO 형식의 바운딩 박스 좌표 출력\n",
    "    \n"
   ]
  },
  {
   "cell_type": "code",
   "execution_count": 352,
   "id": "8527b4c2-2579-4081-a2cc-14e5e1de4420",
   "metadata": {},
   "outputs": [],
   "source": [
    "df_total['bbox'] = bboxes"
   ]
  },
  {
   "cell_type": "code",
   "execution_count": 353,
   "id": "c6a5b0b6-9a88-47b7-b306-30f53d7a5af6",
   "metadata": {},
   "outputs": [
    {
     "data": {
      "text/html": [
       "<div>\n",
       "<style scoped>\n",
       "    .dataframe tbody tr th:only-of-type {\n",
       "        vertical-align: middle;\n",
       "    }\n",
       "\n",
       "    .dataframe tbody tr th {\n",
       "        vertical-align: top;\n",
       "    }\n",
       "\n",
       "    .dataframe thead th {\n",
       "        text-align: right;\n",
       "    }\n",
       "</style>\n",
       "<table border=\"1\" class=\"dataframe\">\n",
       "  <thead>\n",
       "    <tr style=\"text-align: right;\">\n",
       "      <th></th>\n",
       "      <th>image</th>\n",
       "      <th>class</th>\n",
       "      <th>bbox</th>\n",
       "      <th>width</th>\n",
       "      <th>height</th>\n",
       "    </tr>\n",
       "  </thead>\n",
       "  <tbody>\n",
       "    <tr>\n",
       "      <th>0</th>\n",
       "      <td>1675</td>\n",
       "      <td>17</td>\n",
       "      <td>[0.5, 0.32038541666666664, 1.0, 0.611583333333...</td>\n",
       "      <td>640</td>\n",
       "      <td>480</td>\n",
       "    </tr>\n",
       "    <tr>\n",
       "      <th>1</th>\n",
       "      <td>1675</td>\n",
       "      <td>76</td>\n",
       "      <td>[0.44494531249999997, 0.49326041666666665, 0.7...</td>\n",
       "      <td>640</td>\n",
       "      <td>480</td>\n",
       "    </tr>\n",
       "    <tr>\n",
       "      <th>2</th>\n",
       "      <td>4795</td>\n",
       "      <td>73</td>\n",
       "      <td>[0.136515625, 0.4943854166666667, 0.27303125, ...</td>\n",
       "      <td>640</td>\n",
       "      <td>480</td>\n",
       "    </tr>\n",
       "    <tr>\n",
       "      <th>3</th>\n",
       "      <td>4795</td>\n",
       "      <td>17</td>\n",
       "      <td>[0.4282265625, 0.49785416666666665, 0.61775, 0...</td>\n",
       "      <td>640</td>\n",
       "      <td>480</td>\n",
       "    </tr>\n",
       "    <tr>\n",
       "      <th>4</th>\n",
       "      <td>4795</td>\n",
       "      <td>72</td>\n",
       "      <td>[0.5, 0.36622916666666666, 0.9688281249999999,...</td>\n",
       "      <td>640</td>\n",
       "      <td>480</td>\n",
       "    </tr>\n",
       "    <tr>\n",
       "      <th>...</th>\n",
       "      <td>...</td>\n",
       "      <td>...</td>\n",
       "      <td>...</td>\n",
       "      <td>...</td>\n",
       "      <td>...</td>\n",
       "    </tr>\n",
       "    <tr>\n",
       "      <th>1754</th>\n",
       "      <td>574810</td>\n",
       "      <td>17</td>\n",
       "      <td>[0.3707824933687003, 0.46022, 0.57042440318302...</td>\n",
       "      <td>377</td>\n",
       "      <td>500</td>\n",
       "    </tr>\n",
       "    <tr>\n",
       "      <th>1755</th>\n",
       "      <td>575357</td>\n",
       "      <td>18</td>\n",
       "      <td>[0.4820234375, 0.3954083885209713, 0.572640625...</td>\n",
       "      <td>640</td>\n",
       "      <td>453</td>\n",
       "    </tr>\n",
       "    <tr>\n",
       "      <th>1756</th>\n",
       "      <td>575357</td>\n",
       "      <td>34</td>\n",
       "      <td>[0.11079687499999999, 0.20885209713024283, 0.1...</td>\n",
       "      <td>640</td>\n",
       "      <td>453</td>\n",
       "    </tr>\n",
       "    <tr>\n",
       "      <th>1757</th>\n",
       "      <td>579321</td>\n",
       "      <td>1</td>\n",
       "      <td>[0.2620625, 0.21281124497991966, 0.37603125, 0...</td>\n",
       "      <td>640</td>\n",
       "      <td>498</td>\n",
       "    </tr>\n",
       "    <tr>\n",
       "      <th>1758</th>\n",
       "      <td>579321</td>\n",
       "      <td>18</td>\n",
       "      <td>[0.46939843750000004, 0.3420381526104418, 0.62...</td>\n",
       "      <td>640</td>\n",
       "      <td>498</td>\n",
       "    </tr>\n",
       "  </tbody>\n",
       "</table>\n",
       "<p>1759 rows × 5 columns</p>\n",
       "</div>"
      ],
      "text/plain": [
       "       image  class                                               bbox  width  \\\n",
       "0       1675     17  [0.5, 0.32038541666666664, 1.0, 0.611583333333...    640   \n",
       "1       1675     76  [0.44494531249999997, 0.49326041666666665, 0.7...    640   \n",
       "2       4795     73  [0.136515625, 0.4943854166666667, 0.27303125, ...    640   \n",
       "3       4795     17  [0.4282265625, 0.49785416666666665, 0.61775, 0...    640   \n",
       "4       4795     72  [0.5, 0.36622916666666666, 0.9688281249999999,...    640   \n",
       "...      ...    ...                                                ...    ...   \n",
       "1754  574810     17  [0.3707824933687003, 0.46022, 0.57042440318302...    377   \n",
       "1755  575357     18  [0.4820234375, 0.3954083885209713, 0.572640625...    640   \n",
       "1756  575357     34  [0.11079687499999999, 0.20885209713024283, 0.1...    640   \n",
       "1757  579321      1  [0.2620625, 0.21281124497991966, 0.37603125, 0...    640   \n",
       "1758  579321     18  [0.46939843750000004, 0.3420381526104418, 0.62...    640   \n",
       "\n",
       "      height  \n",
       "0        480  \n",
       "1        480  \n",
       "2        480  \n",
       "3        480  \n",
       "4        480  \n",
       "...      ...  \n",
       "1754     500  \n",
       "1755     453  \n",
       "1756     453  \n",
       "1757     498  \n",
       "1758     498  \n",
       "\n",
       "[1759 rows x 5 columns]"
      ]
     },
     "execution_count": 353,
     "metadata": {},
     "output_type": "execute_result"
    }
   ],
   "source": [
    "df_total"
   ]
  },
  {
   "cell_type": "code",
   "execution_count": 364,
   "id": "fb6d3477-742b-42e1-8cf5-c603697390f7",
   "metadata": {},
   "outputs": [],
   "source": [
    "last_df = df_total[(df_total['class']==17) | (df_total['class']==18)]"
   ]
  },
  {
   "cell_type": "code",
   "execution_count": 365,
   "id": "b4270cc5-30df-49c9-8c44-5d11e49ffbb0",
   "metadata": {},
   "outputs": [
    {
     "data": {
      "text/html": [
       "<div>\n",
       "<style scoped>\n",
       "    .dataframe tbody tr th:only-of-type {\n",
       "        vertical-align: middle;\n",
       "    }\n",
       "\n",
       "    .dataframe tbody tr th {\n",
       "        vertical-align: top;\n",
       "    }\n",
       "\n",
       "    .dataframe thead th {\n",
       "        text-align: right;\n",
       "    }\n",
       "</style>\n",
       "<table border=\"1\" class=\"dataframe\">\n",
       "  <thead>\n",
       "    <tr style=\"text-align: right;\">\n",
       "      <th></th>\n",
       "      <th>image</th>\n",
       "      <th>class</th>\n",
       "      <th>bbox</th>\n",
       "      <th>width</th>\n",
       "      <th>height</th>\n",
       "    </tr>\n",
       "  </thead>\n",
       "  <tbody>\n",
       "    <tr>\n",
       "      <th>0</th>\n",
       "      <td>1675</td>\n",
       "      <td>0</td>\n",
       "      <td>[0.5, 0.32038541666666664, 1.0, 0.611583333333...</td>\n",
       "      <td>640</td>\n",
       "      <td>480</td>\n",
       "    </tr>\n",
       "    <tr>\n",
       "      <th>3</th>\n",
       "      <td>4795</td>\n",
       "      <td>0</td>\n",
       "      <td>[0.4282265625, 0.49785416666666665, 0.61775, 0...</td>\n",
       "      <td>640</td>\n",
       "      <td>480</td>\n",
       "    </tr>\n",
       "    <tr>\n",
       "      <th>7</th>\n",
       "      <td>7386</td>\n",
       "      <td>1</td>\n",
       "      <td>[0.18275833333333333, 0.408275, 0.064, 0.1137]</td>\n",
       "      <td>600</td>\n",
       "      <td>400</td>\n",
       "    </tr>\n",
       "    <tr>\n",
       "      <th>12</th>\n",
       "      <td>10363</td>\n",
       "      <td>0</td>\n",
       "      <td>[0.36846875, 0.33792243767313024, 0.353328125,...</td>\n",
       "      <td>640</td>\n",
       "      <td>361</td>\n",
       "    </tr>\n",
       "    <tr>\n",
       "      <th>15</th>\n",
       "      <td>14007</td>\n",
       "      <td>0</td>\n",
       "      <td>[0.3256875, 0.3502582159624413, 0.119734374999...</td>\n",
       "      <td>640</td>\n",
       "      <td>426</td>\n",
       "    </tr>\n",
       "    <tr>\n",
       "      <th>...</th>\n",
       "      <td>...</td>\n",
       "      <td>...</td>\n",
       "      <td>...</td>\n",
       "      <td>...</td>\n",
       "      <td>...</td>\n",
       "    </tr>\n",
       "    <tr>\n",
       "      <th>1745</th>\n",
       "      <td>572388</td>\n",
       "      <td>0</td>\n",
       "      <td>[0.26545845272206303, 0.45294000000000006, 0.5...</td>\n",
       "      <td>349</td>\n",
       "      <td>500</td>\n",
       "    </tr>\n",
       "    <tr>\n",
       "      <th>1750</th>\n",
       "      <td>574315</td>\n",
       "      <td>0</td>\n",
       "      <td>[0.3386875, 0.35516666666666663, 0.39334375, 0...</td>\n",
       "      <td>640</td>\n",
       "      <td>480</td>\n",
       "    </tr>\n",
       "    <tr>\n",
       "      <th>1754</th>\n",
       "      <td>574810</td>\n",
       "      <td>0</td>\n",
       "      <td>[0.3707824933687003, 0.46022, 0.57042440318302...</td>\n",
       "      <td>377</td>\n",
       "      <td>500</td>\n",
       "    </tr>\n",
       "    <tr>\n",
       "      <th>1755</th>\n",
       "      <td>575357</td>\n",
       "      <td>1</td>\n",
       "      <td>[0.4820234375, 0.3954083885209713, 0.572640625...</td>\n",
       "      <td>640</td>\n",
       "      <td>453</td>\n",
       "    </tr>\n",
       "    <tr>\n",
       "      <th>1758</th>\n",
       "      <td>579321</td>\n",
       "      <td>1</td>\n",
       "      <td>[0.46939843750000004, 0.3420381526104418, 0.62...</td>\n",
       "      <td>640</td>\n",
       "      <td>498</td>\n",
       "    </tr>\n",
       "  </tbody>\n",
       "</table>\n",
       "<p>420 rows × 5 columns</p>\n",
       "</div>"
      ],
      "text/plain": [
       "       image  class                                               bbox  width  \\\n",
       "0       1675      0  [0.5, 0.32038541666666664, 1.0, 0.611583333333...    640   \n",
       "3       4795      0  [0.4282265625, 0.49785416666666665, 0.61775, 0...    640   \n",
       "7       7386      1     [0.18275833333333333, 0.408275, 0.064, 0.1137]    600   \n",
       "12     10363      0  [0.36846875, 0.33792243767313024, 0.353328125,...    640   \n",
       "15     14007      0  [0.3256875, 0.3502582159624413, 0.119734374999...    640   \n",
       "...      ...    ...                                                ...    ...   \n",
       "1745  572388      0  [0.26545845272206303, 0.45294000000000006, 0.5...    349   \n",
       "1750  574315      0  [0.3386875, 0.35516666666666663, 0.39334375, 0...    640   \n",
       "1754  574810      0  [0.3707824933687003, 0.46022, 0.57042440318302...    377   \n",
       "1755  575357      1  [0.4820234375, 0.3954083885209713, 0.572640625...    640   \n",
       "1758  579321      1  [0.46939843750000004, 0.3420381526104418, 0.62...    640   \n",
       "\n",
       "      height  \n",
       "0        480  \n",
       "3        480  \n",
       "7        400  \n",
       "12       361  \n",
       "15       426  \n",
       "...      ...  \n",
       "1745     500  \n",
       "1750     480  \n",
       "1754     500  \n",
       "1755     453  \n",
       "1758     498  \n",
       "\n",
       "[420 rows x 5 columns]"
      ]
     },
     "execution_count": 365,
     "metadata": {},
     "output_type": "execute_result"
    }
   ],
   "source": [
    "last_df.loc[last_df['class'] == 17, 'class'] = 0\n",
    "last_df.loc[last_df['class'] == 18, 'class'] = 1\n",
    "last_df"
   ]
  },
  {
   "cell_type": "code",
   "execution_count": 366,
   "id": "69e7db61-6ee3-4cc1-b775-cda32cd64397",
   "metadata": {},
   "outputs": [
    {
     "name": "stdout",
     "output_type": "stream",
     "text": [
      "YOLO label .txt files created in 'val_labels' folder.\n"
     ]
    }
   ],
   "source": [
    "def create_yolo_label_txt(row):\n",
    "    class_id = row['class']\n",
    "    bbox = row['bbox']\n",
    "    yolo_label = f\"{class_id} {bbox[0]:.6f} {bbox[1]:.6f} {bbox[2]:.6f} {bbox[3]:.6f}\"\n",
    "    return yolo_label\n",
    "\n",
    "for index, row in last_df.iterrows():\n",
    "    txt_filename = str(row['image'])+'.txt'\n",
    "    txt_filepath = './labels/'+txt_filename\n",
    "\n",
    "    yolo_label = create_yolo_label_txt(row)\n",
    "\n",
    "    with open(txt_filepath, 'w') as f:\n",
    "        f.write(yolo_label)\n",
    "\n",
    "print(\"YOLO label .txt files created in 'val_labels' folder.\")"
   ]
  },
  {
   "cell_type": "code",
   "execution_count": 224,
   "id": "31611024-f101-417b-8243-6186c1a264d4",
   "metadata": {},
   "outputs": [],
   "source": [
    "os.makedirs('labels',exist_ok=True)"
   ]
  },
  {
   "cell_type": "code",
   "execution_count": 99,
   "id": "960c893e-b330-40bd-94cb-e7724e4b2e93",
   "metadata": {},
   "outputs": [],
   "source": [
    "#고양이 17 ,개 18번\n",
    "#바운딩 박스, 파일이름, 클래스 이름 가져오기\n",
    "bbox_list = []\n",
    "image_list = []\n",
    "cls_list = []\n",
    "for a,b,c in zip(json_data['annotations'],json_data['annotations'],json_data['annotations']):\n",
    "    bbox_list.append(a['bbox'])\n",
    "    image_list.append(b['image_id'])\n",
    "    cls_list.append(c['category_id'])"
   ]
  },
  {
   "cell_type": "code",
   "execution_count": 137,
   "id": "6b0c12d4-19f0-46ea-9d50-9a763fa34ec4",
   "metadata": {},
   "outputs": [],
   "source": [
    "#고양이 17 ,개 18번\n",
    "#바운딩 박스, 파일이름, 클래스 이름 가져오기\n",
    "\n",
    "bbox_list = []\n",
    "image_list = []\n",
    "cls_list = []\n",
    "\n",
    "for i in json_data['annotations']:\n",
    "    if i['image_id'] in real_imageid_list:\n",
    "        bbox_list.append(i['bbox'])\n",
    "        image_list.append(i['image_id'])\n",
    "        cls_list.append(i['category_id'])\n",
    "        "
   ]
  },
  {
   "cell_type": "code",
   "execution_count": 367,
   "id": "f41f4beb-6a24-4caa-a062-f1477f4c41f2",
   "metadata": {},
   "outputs": [
    {
     "data": {
      "text/html": [
       "<div>\n",
       "<style scoped>\n",
       "    .dataframe tbody tr th:only-of-type {\n",
       "        vertical-align: middle;\n",
       "    }\n",
       "\n",
       "    .dataframe tbody tr th {\n",
       "        vertical-align: top;\n",
       "    }\n",
       "\n",
       "    .dataframe thead th {\n",
       "        text-align: right;\n",
       "    }\n",
       "</style>\n",
       "<table border=\"1\" class=\"dataframe\">\n",
       "  <thead>\n",
       "    <tr style=\"text-align: right;\">\n",
       "      <th></th>\n",
       "      <th>image</th>\n",
       "      <th>class</th>\n",
       "      <th>bbox</th>\n",
       "    </tr>\n",
       "  </thead>\n",
       "  <tbody>\n",
       "    <tr>\n",
       "      <th>0</th>\n",
       "      <td>1675</td>\n",
       "      <td>17</td>\n",
       "      <td>[0.0, 14.01, 640.0, 293.56]</td>\n",
       "    </tr>\n",
       "    <tr>\n",
       "      <th>1</th>\n",
       "      <td>1675</td>\n",
       "      <td>76</td>\n",
       "      <td>[61.48, 367.82, 508.05, 105.71]</td>\n",
       "    </tr>\n",
       "    <tr>\n",
       "      <th>2</th>\n",
       "      <td>4795</td>\n",
       "      <td>73</td>\n",
       "      <td>[0.0, 192.0, 174.74, 282.61]</td>\n",
       "    </tr>\n",
       "    <tr>\n",
       "      <th>3</th>\n",
       "      <td>4795</td>\n",
       "      <td>17</td>\n",
       "      <td>[152.77, 113.55, 395.36, 364.39]</td>\n",
       "    </tr>\n",
       "    <tr>\n",
       "      <th>4</th>\n",
       "      <td>4795</td>\n",
       "      <td>72</td>\n",
       "      <td>[19.95, 2.49, 620.05, 349.09]</td>\n",
       "    </tr>\n",
       "    <tr>\n",
       "      <th>...</th>\n",
       "      <td>...</td>\n",
       "      <td>...</td>\n",
       "      <td>...</td>\n",
       "    </tr>\n",
       "    <tr>\n",
       "      <th>1754</th>\n",
       "      <td>574810</td>\n",
       "      <td>17</td>\n",
       "      <td>[64.52, 93.55, 215.05, 366.67]</td>\n",
       "    </tr>\n",
       "    <tr>\n",
       "      <th>1755</th>\n",
       "      <td>575357</td>\n",
       "      <td>18</td>\n",
       "      <td>[250.5, 158.39, 366.49, 199.85]</td>\n",
       "    </tr>\n",
       "    <tr>\n",
       "      <th>1756</th>\n",
       "      <td>575357</td>\n",
       "      <td>34</td>\n",
       "      <td>[39.52, 129.49, 102.3, 59.73]</td>\n",
       "    </tr>\n",
       "    <tr>\n",
       "      <th>1757</th>\n",
       "      <td>579321</td>\n",
       "      <td>1</td>\n",
       "      <td>[94.78, 0.95, 240.66, 211.01]</td>\n",
       "    </tr>\n",
       "    <tr>\n",
       "      <th>1758</th>\n",
       "      <td>579321</td>\n",
       "      <td>18</td>\n",
       "      <td>[200.61, 89.65, 400.22, 251.02]</td>\n",
       "    </tr>\n",
       "  </tbody>\n",
       "</table>\n",
       "<p>1759 rows × 3 columns</p>\n",
       "</div>"
      ],
      "text/plain": [
       "       image  class                              bbox\n",
       "0       1675     17       [0.0, 14.01, 640.0, 293.56]\n",
       "1       1675     76   [61.48, 367.82, 508.05, 105.71]\n",
       "2       4795     73      [0.0, 192.0, 174.74, 282.61]\n",
       "3       4795     17  [152.77, 113.55, 395.36, 364.39]\n",
       "4       4795     72     [19.95, 2.49, 620.05, 349.09]\n",
       "...      ...    ...                               ...\n",
       "1754  574810     17    [64.52, 93.55, 215.05, 366.67]\n",
       "1755  575357     18   [250.5, 158.39, 366.49, 199.85]\n",
       "1756  575357     34     [39.52, 129.49, 102.3, 59.73]\n",
       "1757  579321      1     [94.78, 0.95, 240.66, 211.01]\n",
       "1758  579321     18   [200.61, 89.65, 400.22, 251.02]\n",
       "\n",
       "[1759 rows x 3 columns]"
      ]
     },
     "execution_count": 367,
     "metadata": {},
     "output_type": "execute_result"
    }
   ],
   "source": [
    "import pandas as pd\n",
    "df = pd.DataFrame({'image':image_list,'class':cls_list,'bbox':bbox_list})\n",
    "df_1 = df.sort_values(by='image').reset_index(drop=True)\n",
    "df_1"
   ]
  },
  {
   "cell_type": "code",
   "execution_count": 132,
   "id": "c7f7973d-e538-49ad-b8ce-bfca8798c75e",
   "metadata": {},
   "outputs": [],
   "source": [
    "real_file_list = []\n",
    "real_imageid_list = []\n",
    "for i in json_data['annotations']:\n",
    "    if i['category_id'] == 17 or i['category_id'] == 18:\n",
    "        real_file_list.append(f'{i[\"image_id\"]}.jpg')\n",
    "        real_imageid_list.append(i[\"image_id\"])"
   ]
  },
  {
   "cell_type": "code",
   "execution_count": null,
   "id": "da0e0b65-7f6a-4d8c-8d01-f7a730738ae5",
   "metadata": {},
   "outputs": [],
   "source": [
    "# 필요한 파일 말고 삭제\n",
    "for i in os.listdir('val2017/val2017'):\n",
    "    if i not in real_file_list:\n",
    "        os.remove(f'val2017/val2017/{i}')"
   ]
  },
  {
   "cell_type": "code",
   "execution_count": 110,
   "id": "e6d5c45e-65e1-42ff-9d48-84a79027f0e5",
   "metadata": {},
   "outputs": [],
   "source": [
    "#파일이름 맞추기\n",
    "for i in os.listdir('val2017/val2017'):\n",
    "    os.rename(f'val2017/val2017/{i}', f'val2017/val2017/{i.lstrip(\"0\")}')"
   ]
  },
  {
   "cell_type": "code",
   "execution_count": 125,
   "id": "e360e109-a218-4b0e-bd8b-97149fa8e76c",
   "metadata": {},
   "outputs": [
    {
     "data": {
      "text/plain": [
       "349"
      ]
     },
     "execution_count": 125,
     "metadata": {},
     "output_type": "execute_result"
    }
   ],
   "source": [
    "len(os.listdir('val2017/val2017'))"
   ]
  },
  {
   "cell_type": "code",
   "execution_count": null,
   "id": "0799a3f4-0b40-4b0e-a60f-051eaabad91a",
   "metadata": {},
   "outputs": [],
   "source": [
    "from ultralytics import YOLO\n",
    "\n",
    "model = YOLO('yolov8n.pt') \n",
    "results = model.train(data='data2.yaml',epochs=10)\n",
    "result = model('test111.png')"
   ]
  },
  {
   "cell_type": "code",
   "execution_count": null,
   "id": "b625861b-6d0b-4e37-9f11-b2ab5086fd14",
   "metadata": {},
   "outputs": [],
   "source": [
    "### 혹시 yaml 파일 내용 보는 법(None이 있거나 할때 보려고 )\n",
    "import yaml\n",
    "\n",
    "yaml_file_path = 'data2.yaml'  # YAML 파일의 경로\n",
    "with open(yaml_file_path, 'r') as file:\n",
    "    data = yaml.safe_load(file)\n",
    "\n",
    "print(data)  "
   ]
  }
 ],
 "metadata": {
  "kernelspec": {
   "display_name": "Python 3 (ipykernel)",
   "language": "python",
   "name": "python3"
  },
  "language_info": {
   "codemirror_mode": {
    "name": "ipython",
    "version": 3
   },
   "file_extension": ".py",
   "mimetype": "text/x-python",
   "name": "python",
   "nbconvert_exporter": "python",
   "pygments_lexer": "ipython3",
   "version": "3.10.11"
  }
 },
 "nbformat": 4,
 "nbformat_minor": 5
}
