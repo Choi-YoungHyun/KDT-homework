{
 "cells": [
  {
   "cell_type": "code",
   "execution_count": 112,
   "id": "06b14859",
   "metadata": {},
   "outputs": [
    {
     "name": "stdout",
     "output_type": "stream",
     "text": [
      "Collecting pandas\n",
      "  Downloading pandas-2.0.2-cp311-cp311-win_amd64.whl (10.6 MB)\n",
      "     --------------------------------------- 10.6/10.6 MB 29.7 MB/s eta 0:00:00\n",
      "Requirement already satisfied: python-dateutil>=2.8.2 in c:\\python311\\lib\\site-packages (from pandas) (2.8.2)\n",
      "Collecting pytz>=2020.1\n",
      "  Downloading pytz-2023.3-py2.py3-none-any.whl (502 kB)\n",
      "     ------------------------------------- 502.3/502.3 kB 30.8 MB/s eta 0:00:00\n",
      "Collecting tzdata>=2022.1\n",
      "  Downloading tzdata-2023.3-py2.py3-none-any.whl (341 kB)\n",
      "     ------------------------------------- 341.8/341.8 kB 22.1 MB/s eta 0:00:00\n",
      "Collecting numpy>=1.21.0\n",
      "  Downloading numpy-1.24.3-cp311-cp311-win_amd64.whl (14.8 MB)\n",
      "     --------------------------------------- 14.8/14.8 MB 29.7 MB/s eta 0:00:00\n",
      "Requirement already satisfied: six>=1.5 in c:\\python311\\lib\\site-packages (from python-dateutil>=2.8.2->pandas) (1.16.0)\n",
      "Installing collected packages: pytz, tzdata, numpy, pandas\n",
      "Successfully installed numpy-1.24.3 pandas-2.0.2 pytz-2023.3 tzdata-2023.3\n"
     ]
    },
    {
     "name": "stderr",
     "output_type": "stream",
     "text": [
      "\n",
      "[notice] A new release of pip available: 22.3.1 -> 23.1.2\n",
      "[notice] To update, run: python.exe -m pip install --upgrade pip\n"
     ]
    }
   ],
   "source": [
    "! pip install pandas"
   ]
  },
  {
   "cell_type": "code",
   "execution_count": 116,
   "id": "58fa480f",
   "metadata": {},
   "outputs": [
    {
     "name": "stdout",
     "output_type": "stream",
     "text": [
      "Collecting openpyxl\n",
      "  Using cached openpyxl-3.1.2-py2.py3-none-any.whl (249 kB)\n",
      "Collecting et-xmlfile\n",
      "  Using cached et_xmlfile-1.1.0-py3-none-any.whl (4.7 kB)\n",
      "Installing collected packages: et-xmlfile, openpyxl\n",
      "Successfully installed et-xmlfile-1.1.0 openpyxl-3.1.2\n"
     ]
    },
    {
     "name": "stderr",
     "output_type": "stream",
     "text": [
      "\n",
      "[notice] A new release of pip available: 22.3.1 -> 23.1.2\n",
      "[notice] To update, run: python.exe -m pip install --upgrade pip\n"
     ]
    }
   ],
   "source": [
    "! pip install openpyxl"
   ]
  },
  {
   "cell_type": "code",
   "execution_count": 117,
   "id": "86b4ed4d",
   "metadata": {},
   "outputs": [],
   "source": [
    "from selenium import webdriver\n",
    "import chromedriver_autoinstaller\n",
    "from selenium.webdriver.common.by import By \n",
    "import time\n",
    "from bs4 import BeautifulSoup\n",
    "import pandas as pd\n",
    "import openpyxl"
   ]
  },
  {
   "cell_type": "code",
   "execution_count": 109,
   "id": "b606c752",
   "metadata": {},
   "outputs": [],
   "source": [
    "driver = webdriver.Chrome()\n",
    "\n",
    "url = 'https://banapresso.com/store'\n",
    "\n",
    "driver.get(url)\n",
    "time.sleep(5)"
   ]
  },
  {
   "cell_type": "code",
   "execution_count": 101,
   "id": "3fdae31a",
   "metadata": {},
   "outputs": [],
   "source": [
    "list_page1 = []"
   ]
  },
  {
   "cell_type": "code",
   "execution_count": 110,
   "id": "af3f38cf",
   "metadata": {},
   "outputs": [
    {
     "name": "stdout",
     "output_type": "stream",
     "text": [
      "5\n",
      "들어옴\n",
      "5\n",
      "들어옴\n",
      "1\n",
      "110\n"
     ]
    }
   ],
   "source": [
    "list_page1 = []\n",
    "while True:\n",
    "    list1 = driver.find_elements(By.CSS_SELECTOR, 'div.pagination > ul a')\n",
    "    for link in list1:\n",
    "        link.click()\n",
    "        time.sleep(3)\n",
    "        address = driver.find_elements(By.CSS_SELECTOR, '.store_name_map > span')\n",
    "        location = driver.find_elements(By.CSS_SELECTOR, '.store_name_map > i')\n",
    "\n",
    "        for pair in zip(address,location) :\n",
    "            list_page1.append({'지점명':pair[1].text, '주소':pair[0].text})\n",
    "\n",
    "    if (len(list1)==5):\n",
    "        next_xpath = '/html/body/div/div/div/div/article/div/section/div/div[1]/div[3]/span[2]/a'\n",
    "        driver.find_element(By.XPATH,next_xpath).click()\n",
    "        time.sleep(3)\n",
    "    else:\n",
    "        break\n",
    "\n"
   ]
  },
  {
   "cell_type": "code",
   "execution_count": 118,
   "id": "1e2b9ec1",
   "metadata": {},
   "outputs": [
    {
     "name": "stdout",
     "output_type": "stream",
     "text": [
      "           지점명                                         주소\n",
      "0    가산디지털단지역점                           서울시 금천구 가산동 60-3\n",
      "1        강남구청점                            서울 강남구 청담동 45-4\n",
      "2      강남역사거리점                       서울특별시 강남구 역삼동 820-10\n",
      "3         강남역점                            서울 강남구 역삼동822-7\n",
      "4          강남점  서울 강남구 테헤란로4길 46 (역삼동 826-37) 쌍용 플래티넘, 1층\n",
      "..         ...                                        ...\n",
      "105  가산파트너스타워점                                           \n",
      "106    구로우림1차점                                           \n",
      "107    문정테라타워점       서울특별시 송파구 송파대로 167, 문정역테라타워 A동 G123호\n",
      "108      시흥은계점                      경기도 시흥시 은계번영길 11,111호\n",
      "109      원주무실점                                           \n",
      "\n",
      "[110 rows x 2 columns]\n"
     ]
    }
   ],
   "source": [
    "df = pd.DataFrame(list_page1)\n",
    "print(df)\n",
    "df.to_excel('bana.xlsx')"
   ]
  },
  {
   "cell_type": "code",
   "execution_count": null,
   "id": "81886621",
   "metadata": {},
   "outputs": [],
   "source": []
  }
 ],
 "metadata": {
  "kernelspec": {
   "display_name": "Python 3 (ipykernel)",
   "language": "python",
   "name": "python3"
  },
  "language_info": {
   "codemirror_mode": {
    "name": "ipython",
    "version": 3
   },
   "file_extension": ".py",
   "mimetype": "text/x-python",
   "name": "python",
   "nbconvert_exporter": "python",
   "pygments_lexer": "ipython3",
   "version": "3.11.3"
  }
 },
 "nbformat": 4,
 "nbformat_minor": 5
}
