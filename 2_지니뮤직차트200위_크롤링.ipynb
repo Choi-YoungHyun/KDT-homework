{
  "nbformat": 4,
  "nbformat_minor": 0,
  "metadata": {
    "colab": {
      "provenance": [],
      "authorship_tag": "ABX9TyOX7TFPIbEoMpC/B7nIQPoS",
      "include_colab_link": true
    },
    "kernelspec": {
      "name": "python3",
      "display_name": "Python 3"
    },
    "language_info": {
      "name": "python"
    }
  },
  "cells": [
    {
      "cell_type": "markdown",
      "metadata": {
        "id": "view-in-github",
        "colab_type": "text"
      },
      "source": [
        "<a href=\"https://colab.research.google.com/github/Choi-YoungHyun/KDT-homework/blob/main/2_%EC%A7%80%EB%8B%88%EB%AE%A4%EC%A7%81%EC%B0%A8%ED%8A%B8200%EC%9C%84_%ED%81%AC%EB%A1%A4%EB%A7%81.ipynb\" target=\"_parent\"><img src=\"https://colab.research.google.com/assets/colab-badge.svg\" alt=\"Open In Colab\"/></a>"
      ]
    },
    {
      "cell_type": "code",
      "execution_count": 1,
      "metadata": {
        "id": "Yce4NdDKO3Bf"
      },
      "outputs": [],
      "source": [
        "import requests\n",
        "from bs4 import BeautifulSoup\n",
        "import pandas as pd"
      ]
    },
    {
      "cell_type": "code",
      "source": [
        "header = {'User-Agent':'Mozilla/5.0 (Windows NT 10.0; Win64; x64)'}\n",
        "sitelist = [1,2,3,4]\n",
        "\n",
        "total_list = []\n",
        "\n",
        "for i in sitelist:\n",
        "    site = f'https://www.genie.co.kr/chart/top200?ditc=D&ymd=20230601&hh=13&rtm=Y&pg={i}'\n",
        "    request = requests.get(site,headers=header)\n",
        "    soup = BeautifulSoup(request.text)\n",
        "    artistAll = soup.findAll('td',{'class':'info'})\n",
        "    titleAll = soup.findAll('td',{'class':'info'})  \n",
        "\n",
        "    for j in range(len(artistAll)):\n",
        "        artist = artistAll[j].find('a',{'class':'artist'}).text.strip()\n",
        "        title = titleAll[j].find('a',{'class':'title'}).text.strip()\n",
        "        total= {'곡': title,  '가수': artist}\n",
        "        total_list.append(total)\n",
        "\n"
      ],
      "metadata": {
        "colab": {
          "base_uri": "https://localhost:8080/"
        },
        "id": "c8LX04gqPIX1",
        "outputId": "8e62cc3b-f554-4915-a64b-0caa752c760b"
      },
      "execution_count": 110,
      "outputs": [
        {
          "output_type": "stream",
          "name": "stdout",
          "text": [
            "200\n",
            "50\n"
          ]
        }
      ]
    },
    {
      "cell_type": "code",
      "source": [
        "pd.options.display.max_rows = 220"
      ],
      "metadata": {
        "id": "wD_cX5rvn1Ff"
      },
      "execution_count": 73,
      "outputs": []
    },
    {
      "cell_type": "code",
      "source": [
        "df = pd.DataFrame(total_list)\n",
        "df\n",
        "\n",
        "df.to_excel('genieMusic200.xlsx')"
      ],
      "metadata": {
        "id": "FqHNNOD9myzx"
      },
      "execution_count": 113,
      "outputs": []
    }
  ]
}